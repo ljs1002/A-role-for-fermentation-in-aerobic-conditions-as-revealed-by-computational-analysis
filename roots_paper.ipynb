{
 "cells": [
  {
   "cell_type": "markdown",
   "metadata": {},
   "source": [
    "# Load model"
   ]
  },
  {
   "cell_type": "code",
   "execution_count": null,
   "metadata": {},
   "outputs": [],
   "source": [
    "# Load model from xml file\n",
    "from cobra import io\n",
    "rmodel = io.read_sbml_model('roots_model.xml')"
   ]
  },
  {
   "cell_type": "code",
   "execution_count": null,
   "metadata": {},
   "outputs": [],
   "source": [
    "# Add RegrEx constraint and solve\n",
    "from build_roots_model import *\n",
    "from cobra.flux_analysis.parsimonious import pfba\n",
    "rootspFBAobj(rmodel)\n",
    "sol=pfba(rmodel)"
   ]
  },
  {
   "attachments": {},
   "cell_type": "markdown",
   "metadata": {},
   "source": [
    "# Generate Figure 2"
   ]
  },
  {
   "cell_type": "code",
   "execution_count": null,
   "metadata": {},
   "outputs": [],
   "source": [
    "from cleaner_roots import *\n",
    "cell_dimensions_data_path='model_constraints_data/cell_dimensions.xlsx'\n",
    "vol_vs_change(rmodel,cell_dimensions_data_path)"
   ]
  },
  {
   "attachments": {},
   "cell_type": "markdown",
   "metadata": {},
   "source": [
    "# Generate plots used in Figure 4"
   ]
  },
  {
   "cell_type": "code",
   "execution_count": null,
   "metadata": {},
   "outputs": [],
   "source": [
    "from cleaner_roots import *\n",
    "col=['#1f78b4', '#b2df8a', '#8ae1ed', '#bebada', '#fdb462', '#d68aed', '#f5737a', '#fee08b', '#e69595', '#66c2a5', '#d690b2', '#3288bd', '#ffff99', '#a6cee3', '#ffffb3', '#6a3d9a', '#ff7f00', '#d9d9d9', '#9e0142', '#b3de69', '#33a02c', '#f46d43', '#abdda4', '#d53e4f', '#fccde5', '#fb8072', '#ccebc5', '#ffffbf', '#e6f598', '#bc80bd', '#5e4fa2', '#e89f82', '#80b1d3', '#ffed6f']\n",
    "plot_all_sym_transport(sol,rmodel,col)"
   ]
  },
  {
   "attachments": {},
   "cell_type": "markdown",
   "metadata": {},
   "source": [
    "# Generate Figure 5"
   ]
  },
  {
   "cell_type": "code",
   "execution_count": null,
   "metadata": {},
   "outputs": [],
   "source": [
    "import sys,importlib\n",
    "importlib.reload(sys.modules['cleaner_roots'])\n",
    "from cleaner_roots import *\n",
    "temp=generate_process_chart_all(rmodel, sol,split_epi=1)"
   ]
  },
  {
   "cell_type": "markdown",
   "metadata": {},
   "source": []
  },
  {
   "attachments": {},
   "cell_type": "markdown",
   "metadata": {},
   "source": [
    "# Generate Figure 7"
   ]
  },
  {
   "cell_type": "code",
   "execution_count": null,
   "metadata": {},
   "outputs": [],
   "source": [
    "fermentation_export(rmodel)"
   ]
  },
  {
   "attachments": {},
   "cell_type": "markdown",
   "metadata": {},
   "source": [
    "# Generate Figure 8"
   ]
  },
  {
   "cell_type": "code",
   "execution_count": null,
   "metadata": {},
   "outputs": [],
   "source": [
    "# Plot proton budget for cortical, cytosolic protons\n",
    "corprotc=make_prot_dict(rmodel,sol,cell='_cor')\n",
    "plot_protons(corprotc,savebool='cor_c',split=1,sumbool=0)"
   ]
  },
  {
   "cell_type": "code",
   "execution_count": null,
   "metadata": {},
   "outputs": [],
   "source": [
    "# Plot proton budget for cortical, plastidial protons\n",
    "corprotp=make_prot_dict(rmodel,sol,cell='_cor',metroot='PROTON_p')\n",
    "plot_protons(corprotp,savebool='cor_p',split=1,sumbool=0)"
   ]
  },
  {
   "attachments": {},
   "cell_type": "markdown",
   "metadata": {},
   "source": [
    "# Generate Supplemental Data 1"
   ]
  }
 ],
 "metadata": {
  "kernelspec": {
   "display_name": "base",
   "language": "python",
   "name": "python3"
  },
  "language_info": {
   "codemirror_mode": {
    "name": "ipython",
    "version": 3
   },
   "file_extension": ".py",
   "mimetype": "text/x-python",
   "name": "python",
   "nbconvert_exporter": "python",
   "pygments_lexer": "ipython3",
   "version": "3.9.7"
  },
  "orig_nbformat": 4
 },
 "nbformat": 4,
 "nbformat_minor": 2
}
