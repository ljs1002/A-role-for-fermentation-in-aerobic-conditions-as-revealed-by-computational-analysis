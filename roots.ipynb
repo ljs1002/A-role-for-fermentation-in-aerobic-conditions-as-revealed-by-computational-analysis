{
 "cells": [
  {
   "cell_type": "code",
   "execution_count": 502,
   "metadata": {},
   "outputs": [
    {
     "name": "stderr",
     "output_type": "stream",
     "text": [
      "No objective coefficients in model. Unclear what should be optimized\n"
     ]
    }
   ],
   "source": [
    "rootsdir = '/Users/user/Documents/Ox/roots/'\n",
    "orootsdir = '/Users/user/Documents/Ox/roots/roots-model/'\n",
    "# modelpwy='final_roots_model.xml'\n",
    "# modelpwy='tissue_dnut_model.xml'\n",
    "modelpwy='roots_model_-1-1-1.xml'\n",
    "from cobra import io\n",
    "rmodel2=io.read_sbml_model(rootsdir+modelpwy)"
   ]
  },
  {
   "cell_type": "code",
   "execution_count": null,
   "metadata": {},
   "outputs": [],
   "source": [
    "for rxn in rmodel2.reactions:\n",
    "    if rxn.id in rmodel.reactions:"
   ]
  },
  {
   "cell_type": "code",
   "execution_count": 499,
   "metadata": {},
   "outputs": [],
   "source": [
    "rmodel.reactions.ATPase_tx_per00.lower_bound=0\n",
    "tempsol=pfba(rmodel)"
   ]
  },
  {
   "cell_type": "code",
   "execution_count": 500,
   "metadata": {},
   "outputs": [
    {
     "name": "stdout",
     "output_type": "stream",
     "text": [
      "0.0\n",
      "-1.7621477141209807 CO2_tx_epi00\n",
      "0.0 CO2_tx_cor00\n",
      "0.0 CO2_tx_cor01\n",
      "0.0 CO2_tx_cor02\n",
      "0.0 CO2_tx_cor03\n",
      "0.0 CO2_tx_cor04\n",
      "0.0 CO2_tx_cor05\n",
      "0.0 CO2_tx_cor06\n",
      "0.0 CO2_tx_cor07\n",
      "0.0 CO2_tx_end00\n",
      "0.0 CO2_tx_per00\n"
     ]
    }
   ],
   "source": [
    "print(tempsol['ATPase_tx_per00'])\n",
    "for rxn in rmodel.reactions:\n",
    "    if 'CO2_tx_' in rxn.id:\n",
    "        print(tempsol[rxn.id],rxn.id)"
   ]
  },
  {
   "cell_type": "code",
   "execution_count": 402,
   "metadata": {},
   "outputs": [],
   "source": [
    "rxn=rmodel.reactions.EX_X_PROTON_ph_per00\n",
    "rxn.add_metabolites({phloem_ratio_met:-0.7})"
   ]
  },
  {
   "cell_type": "code",
   "execution_count": 488,
   "metadata": {},
   "outputs": [
    {
     "name": "stdout",
     "output_type": "stream",
     "text": [
      "Biomass_expanding_cell_epi00 1.0 0.474284237927315 Cellulose_b_epi00 + 0.00775447925401353 L_PHOSPHATIDATE_p_epi00 + 0.00230429728520733 Protein_b_epi00 --> \n",
      "Biomass_expanding_cell_cor00 1.0 0.453811537009589 Cellulose_b_cor00 + 0.0074197535308187 L_PHOSPHATIDATE_p_cor00 + 0.00220483121534226 Protein_b_cor00 --> \n",
      "Biomass_expanding_cell_cor01 1.0 0.432043238103724 Cellulose_b_cor01 + 0.00706909194202745 L_PHOSPHATIDATE_p_cor01 + 0.00210541655482405 Protein_b_cor01 --> \n",
      "Biomass_expanding_cell_cor02 1.0 0.406022738913645 Cellulose_b_cor02 + 0.00663858175202352 L_PHOSPHATIDATE_p_cor02 + 0.00198389697678943 Protein_b_cor02 --> \n",
      "Biomass_expanding_cell_cor03 1.0 0.37791175865226 Cellulose_b_cor03 + 0.00618077020806126 L_PHOSPHATIDATE_p_cor03 + 0.00185057675039515 Protein_b_cor03 --> \n",
      "Biomass_expanding_cell_cor04 1.0 0.351235634512101 Cellulose_b_cor04 + 0.00574448054631575 L_PHOSPHATIDATE_p_cor04 + 0.00171994780330843 Protein_b_cor04 --> \n",
      "Biomass_expanding_cell_cor05 1.0 0.323997943173515 Cellulose_b_cor05 + 0.0052974541253521 L_PHOSPHATIDATE_p_cor05 + 0.00158310970875116 Protein_b_cor05 --> \n",
      "Biomass_expanding_cell_cor06 1.0 0.300551817811286 Cellulose_b_cor06 + 0.00491762917706257 L_PHOSPHATIDATE_p_cor06 + 0.00146463760335586 Protein_b_cor06 --> \n",
      "Biomass_expanding_cell_cor07 1.0 0.276381462389299 Cellulose_b_cor07 + 0.00451879726313018 L_PHOSPHATIDATE_p_cor07 + 0.00134279194317837 Protein_b_cor07 --> \n",
      "Biomass_expanding_cell_end00 1.0 0.255908761471573 Cellulose_b_end00 + 0.00418407153993535 L_PHOSPHATIDATE_p_end00 + 0.0012433258733133 Protein_b_end00 --> \n",
      "Biomass_expanding_cell_per00 1.0 0.235436060553847 Cellulose_b_per00 + 0.00384934581674053 L_PHOSPHATIDATE_p_per00 + 0.00114385980344824 Protein_b_per00 --> \n"
     ]
    }
   ],
   "source": [
    "for rxn in rmodel.reactions:\n",
    "    if 'Biomass_expanding_cell' in rxn.id:\n",
    "        print(rxn.id,sol[rxn.id],rxn.reaction)\n",
    "# for rxn in rmodel.reactions:\n",
    "#     if 'PHOSPHATIDATE' in rxn.id:\n",
    "#         print(rxn.id,sol[rxn.id])\n",
    "# for rxn in rmodel.reactions:\n",
    "#     if 'Protein_b' in rxn.id:\n",
    "#         print(rxn.id,sol[rxn.id])"
   ]
  },
  {
   "cell_type": "code",
   "execution_count": 401,
   "metadata": {},
   "outputs": [
    {
     "name": "stdout",
     "output_type": "stream",
     "text": [
      "EX_X_PROTON_ph_per00\n",
      "EX_X_CYS_ph_per00\n",
      "EX_X_PHE_ph_per00\n",
      "EX_X_LEU_ph_per00\n",
      "EX_X_4_AMINO_BUTYRATE_ph_per00\n",
      "EX_X_FRU_ph_per00\n",
      "EX_X_GLT_ph_per00\n",
      "EX_X_L_ALPHA_ALANINE_ph_per00\n",
      "EX_X_PRO_ph_per00\n",
      "EX_X_HIS_ph_per00\n",
      "EX_X_TRP_ph_per00\n",
      "EX_X_ILE_ph_per00\n",
      "EX_X_ARG_ph_per00\n",
      "EX_X_GLC_ph_per00\n",
      "EX_X_GLY_ph_per00\n",
      "EX_X_L_ASPARTATE_ph_per00\n",
      "EX_X_SER_ph_per00\n",
      "EX_X_MET_ph_per00\n",
      "EX_X_TYR_ph_per00\n",
      "EX_X_VAL_ph_per00\n",
      "EX_X_ASN_ph_per00\n",
      "EX_X_GLN_ph_per00\n",
      "EX_X_LYS_ph_per00\n",
      "EX_X_THR_ph_per00\n"
     ]
    }
   ],
   "source": [
    "phloem_ratio_met=Metabolite('phloem_ratio_met')\n",
    "rxn=rmodel.reactions.EX_X_SUCROSE_ph_per00\n",
    "rxn.add_metabolites({phloem_ratio_met:-0.3})\n",
    "for rxn in rmodel.reactions:\n",
    "    if 'EX_X_' in rxn.id and '_ph_' in rxn.id and not any([x in rxn.id for x in ['EX_X_SUCROSE_ph_per00','PROTON']):\n",
    "        print(rxn.id)\n",
    "        rxn.add_metabolites({phloem_ratio_met:0.7})\n"
   ]
  },
  {
   "cell_type": "code",
   "execution_count": 389,
   "metadata": {},
   "outputs": [
    {
     "name": "stdout",
     "output_type": "stream",
     "text": [
      "ARG_ph_per00\n"
     ]
    }
   ],
   "source": [
    "metlist=[met for met in rmodel.reactions.Phloem_import_reaction.metabolites]\n",
    "rxn=rmodel.reactions.Phloem_import_reaction\n",
    "for met in metlist:\n",
    "    if 'ARG_ph_per00' in met.id:\n",
    "        print(met.id)\n",
    "        rxn.add_metabolites({met.id:-rxn.get_coefficient(met.id)})"
   ]
  },
  {
   "cell_type": "code",
   "execution_count": 382,
   "metadata": {},
   "outputs": [
    {
     "data": {
      "text/plain": [
       "'0.4 ARG_ph_per00 + 0.304 ASN_ph_per00 + 2.512 GLT_ph_per00 + 3.504 GLY_ph_per00 + 0.192 HIS_ph_per00 + 0.848 ILE_ph_per00 + 1.008 LEU_ph_per00 + 0.992 LYS_ph_per00 + 0.208 L_ALPHA_ALANINE_ph_per00 + 0.736 L_ASPARTATE_ph_per00 + 1.712 MET_ph_per00 + 0.384 PHE_ph_per00 + 1.184 SER_ph_per00 + 0.608 THR_ph_per00 + 0.368 TYR_ph_per00 --> 0.4 ARG_c_per00 + 0.304 ASN_c_per00 + 2.512 GLT_c_per00 + 3.504 GLY_c_per00 + 0.192 HIS_c_per00 + 0.848 ILE_c_per00 + 1.008 LEU_c_per00 + 0.992 LYS_c_per00 + 0.208 L_ALPHA_ALANINE_c_per00 + 0.736 L_ASPARTATE_c_per00 + 1.712 MET_c_per00 + 0.384 PHE_c_per00 + 1.184 SER_c_per00 + 0.608 THR_c_per00 + 0.368 TYR_c_per00'"
      ]
     },
     "execution_count": 382,
     "metadata": {},
     "output_type": "execute_result"
    }
   ],
   "source": [
    "rmodel.reactions.Phloem_import_reaction.reaction"
   ]
  },
  {
   "cell_type": "code",
   "execution_count": 391,
   "metadata": {},
   "outputs": [
    {
     "name": "stdout",
     "output_type": "stream",
     "text": [
      "-3.5082643471571435 0.00010037364142264632\n"
     ]
    }
   ],
   "source": [
    "rmodel.reactions.EX_X_SUCROSE_ph_per00.upper_bound=1000\n",
    "rmodel.reactions.Phloem_import_reaction.lower_bound=0\n",
    "rmodel.objective='Phloem_import_reaction'\n",
    "rmodel.solver='gurobi'\n",
    "sol=rmodel.optimize()\n",
    "print(sol['CO2_tx_epi00'],sol['Phloem_import_reaction'])"
   ]
  },
  {
   "cell_type": "code",
   "execution_count": 472,
   "metadata": {},
   "outputs": [],
   "source": [
    "ph_carbon_restr.upper_bound=1000\n",
    "carbonobj=tissue_model.problem.Objective(ph_carbon_restr.forward_variable,\n",
    "        direction='min')\n",
    "tissue_model.objective=carbonobj\n",
    "solution = flux_analysis.parsimonious.pfba(tissue_model)"
   ]
  },
  {
   "cell_type": "code",
   "execution_count": 473,
   "metadata": {},
   "outputs": [
    {
     "name": "stdout",
     "output_type": "stream",
     "text": [
      "9.406117503199374\n"
     ]
    }
   ],
   "source": [
    "print(solution['Phloem_carbon_restriction'])"
   ]
  },
  {
   "cell_type": "code",
   "execution_count": null,
   "metadata": {},
   "outputs": [],
   "source": []
  },
  {
   "cell_type": "code",
   "execution_count": 477,
   "metadata": {},
   "outputs": [
    {
     "name": "stdout",
     "output_type": "stream",
     "text": [
      "0.016065969949169562 EX_X_PHE_ph_per00\n",
      "0.00010117663055402748 EX_X_LEU_ph_per00\n",
      "0.5741060781329654 EX_X_4_AMINO_BUTYRATE_ph_per00\n",
      "2.524564951043503 EX_X_SUCROSE_ph_per00\n",
      "0.0031711696127223244 EX_X_HIS_ph_per00\n",
      "0.0034193872301445886 EX_X_ILE_ph_per00\n",
      "0.0033568481615631526 EX_X_ARG_ph_per00\n",
      "0.0064761778365725825 EX_X_MET_ph_per00\n",
      "0.015552534401882832 EX_X_TYR_ph_per00\n",
      "0.45305549760923697 EX_X_LYS_ph_per00\n",
      "0.006651568025260943 EX_X_THR_ph_per00\n",
      "3.606521358633575 0.7000000000000001\n"
     ]
    }
   ],
   "source": [
    "exsum=0\n",
    "for rxn in rmodel.reactions:\n",
    "    if 'EX_X' in rxn.id and 'ph' in rxn.id and solution[rxn.id]!=0:\n",
    "        print(solution[rxn.id],rxn.id)\n",
    "        exsum+=solution[rxn.id]\n",
    "print(exsum,solution['EX_X_SUCROSE_ph_per00']/exsum)"
   ]
  },
  {
   "cell_type": "code",
   "execution_count": 447,
   "metadata": {},
   "outputs": [
    {
     "name": "stdout",
     "output_type": "stream",
     "text": [
      "CYS_ph_per00 C3H7N1O2S1\n",
      "[1, 3, 5, 7, 9]\n",
      "0\n",
      "3\n",
      "phloem_ratio_met None\n"
     ]
    }
   ],
   "source": [
    "rxn=rmodel.reactions.EX_X_CYS_ph_per00\n",
    "for met in rxn.products:\n",
    "    print(met.id,met.formula)\n",
    "    metformula=met.formula\n",
    "    if metformula:\n",
    "        print([x for x in range(len(metformula)) if metformula[x].isdigit()])\n",
    "        formula_digits=[x for x in range(len(metformula)) if metformula[x].isdigit()]\n",
    "        print(metformula.index('C'))\n",
    "        cind = metformula.index('C')\n",
    "        cnext = [x for x in formula_digits if x>cind+1]\n",
    "        print(int(metformula[(cind+1):(cnext[0]-1)]))"
   ]
  },
  {
   "cell_type": "code",
   "execution_count": 468,
   "metadata": {},
   "outputs": [],
   "source": [
    "def count_carbon(met):\n",
    "    carbons=0\n",
    "    metformula=met.formula\n",
    "    if metformula and 'C' in metformula:\n",
    "        formula_nondigits=[x for x in range(len(metformula)) if not metformula[x].isdigit()]\n",
    "        cind = metformula.index('C')\n",
    "        cnext = [x for x in formula_nondigits if x>cind+1]\n",
    "        carbons = int(metformula[(cind+1):(cnext[0])])\n",
    "    return carbons"
   ]
  },
  {
   "cell_type": "code",
   "execution_count": 465,
   "metadata": {},
   "outputs": [
    {
     "data": {
      "text/plain": [
       "'EX_X_PROTON_ph_per00'"
      ]
     },
     "execution_count": 465,
     "metadata": {},
     "output_type": "execute_result"
    }
   ],
   "source": [
    "rxn.id"
   ]
  },
  {
   "cell_type": "code",
   "execution_count": 467,
   "metadata": {},
   "outputs": [
    {
     "name": "stdout",
     "output_type": "stream",
     "text": [
      "H1\n",
      "0\n",
      "C3H7N1O2S1\n",
      "C3H7N1O2S1 1 1\n",
      "3\n",
      "None\n",
      "0\n",
      "C9H11N1O2\n",
      "C9H11N1O2 1 1\n",
      "9\n",
      "None\n",
      "0\n",
      "C6H13N1O2\n",
      "C6H13N1O2 1 1\n",
      "6\n",
      "None\n",
      "0\n",
      "C4H9N1O2\n",
      "C4H9N1O2 1 1\n",
      "4\n",
      "None\n",
      "0\n",
      "C6H12O6\n",
      "C6H12O6 1 1\n",
      "6\n",
      "None\n",
      "0\n",
      "C5H8N1O4\n",
      "C5H8N1O4 1 1\n",
      "5\n",
      "None\n",
      "0\n",
      "C3H7N1O2\n",
      "C3H7N1O2 1 1\n",
      "3\n",
      "None\n",
      "0\n",
      "C5H9N1O2\n",
      "C5H9N1O2 1 1\n",
      "5\n",
      "None\n",
      "0\n",
      "C12H22O11\n",
      "C12H22O11 1 2\n",
      "12\n",
      "C6H9N3O2\n",
      "C6H9N3O2 1 1\n",
      "6\n",
      "None\n",
      "0\n",
      "C11H12N2O2\n",
      "C11H12N2O2 1 2\n",
      "11\n",
      "None\n",
      "0\n",
      "C6H13N1O2\n",
      "C6H13N1O2 1 1\n",
      "6\n",
      "None\n",
      "0\n",
      "C6H15N4O2\n",
      "C6H15N4O2 1 1\n",
      "6\n",
      "None\n",
      "0\n",
      "C6H12O6\n",
      "C6H12O6 1 1\n",
      "6\n",
      "None\n",
      "0\n",
      "C2H5N1O2\n",
      "C2H5N1O2 1 1\n",
      "2\n",
      "None\n",
      "0\n",
      "C4H6N1O4\n",
      "C4H6N1O4 1 1\n",
      "4\n",
      "None\n",
      "0\n",
      "C3H7N1O3\n",
      "C3H7N1O3 1 1\n",
      "3\n",
      "None\n",
      "0\n",
      "C5H11N1O2S1\n",
      "C5H11N1O2S1 1 1\n",
      "5\n",
      "None\n",
      "0\n",
      "C9H11N1O3\n",
      "C9H11N1O3 1 1\n",
      "9\n",
      "None\n",
      "0\n",
      "C5H11N1O2\n",
      "C5H11N1O2 1 1\n",
      "5\n",
      "None\n",
      "0\n",
      "C4H8N2O3\n",
      "C4H8N2O3 1 1\n",
      "4\n",
      "None\n",
      "0\n",
      "C5H10N2O3\n",
      "C5H10N2O3 1 1\n",
      "5\n",
      "None\n",
      "0\n",
      "C6H15N2O2\n",
      "C6H15N2O2 1 1\n",
      "6\n",
      "None\n",
      "0\n",
      "C4H9N1O3\n",
      "C4H9N1O3 1 1\n",
      "4\n",
      "None\n",
      "0\n"
     ]
    }
   ],
   "source": [
    "# Add phloem carbon import restriction\n",
    "ph_rxns = [rxn for rxn in tissue_model.reactions if 'EX_X' in rxn.id and '_ph_' in rxn.id]\n",
    "carboncountmet = Metabolite('Phloem_carbon_in')\n",
    "for rxn in ph_rxns:\n",
    "    carbon_translocated = sum([count_carbon(met) for met in rxn.products])\n",
    "    rxn.add_metabolites({carboncountmet:carbon_translocated})\n",
    "ph_carbon_restr = Reaction('Phloem_carbon_restriction')\n",
    "tissue_model.add_reaction(ph_carbon_restr)\n",
    "ph_carbon_restr.add_metabolites({carboncountmet:-3.79682498})\n",
    "ph_carbon_restr.upper_bound=1\n",
    "ph_carbon_restr.lower_bound=0"
   ]
  },
  {
   "cell_type": "code",
   "execution_count": 432,
   "metadata": {},
   "outputs": [
    {
     "name": "stdout",
     "output_type": "stream",
     "text": [
      "0.38366619703975297 L_LACTATE_ec_epi00\n",
      "0.38366619703975297 L_LACTATE_tx_epi00\n"
     ]
    }
   ],
   "source": [
    "for rxn in rmodel.reactions:\n",
    "    if 'LACTATE_' in rxn.id and solution[rxn.id]!=0:\n",
    "        print(solution[rxn.id],rxn.id)"
   ]
  },
  {
   "cell_type": "code",
   "execution_count": 482,
   "metadata": {},
   "outputs": [
    {
     "name": "stdout",
     "output_type": "stream",
     "text": [
      "0.01606596994916966 EX_X_PHE_ph_per00\n",
      "0.00010117663055402748 EX_X_LEU_ph_per00\n",
      "0.46877917413310777 EX_X_L_ALPHA_ALANINE_ph_per00\n",
      "2.5475896115737684 EX_X_SUCROSE_ph_per00\n",
      "0.0031711696127223244 EX_X_HIS_ph_per00\n",
      "0.003419387230144594 EX_X_ILE_ph_per00\n",
      "0.0033568481615631526 EX_X_ARG_ph_per00\n",
      "0.006476177836572613 EX_X_MET_ph_per00\n",
      "0.015552534401882926 EX_X_TYR_ph_per00\n",
      "0.5682501132649228 EX_X_LYS_ph_per00\n",
      "0.00665156802526096 EX_X_THR_ph_per00\n",
      "3.6394137308196686 0.7000000000000001\n"
     ]
    }
   ],
   "source": [
    "exsum=0\n",
    "for rxn in rmodel.reactions:\n",
    "    if 'EX_X' in rxn.id and 'ph' in rxn.id and solution[rxn.id]!=0:\n",
    "        print(solution[rxn.id],rxn.id)\n",
    "        exsum+=solution[rxn.id]\n",
    "print(exsum,solution['EX_X_SUCROSE_ph_per00']/exsum)"
   ]
  },
  {
   "cell_type": "code",
   "execution_count": 480,
   "metadata": {},
   "outputs": [],
   "source": [
    "tissue_model.reactions.EX_X_4_AMINO_BUTYRATE_ph_per00.upper_bound=0\n",
    "solution=flux_analysis.parsimonious.pfba(tissue_model)"
   ]
  },
  {
   "cell_type": "code",
   "execution_count": 481,
   "metadata": {},
   "outputs": [
    {
     "data": {
      "image/png": "[encoded data removed]",
      "text/plain": [
       "<Figure size 432x288 with 2 Axes>"
      ]
     },
     "metadata": {
      "needs_background": "light"
     },
     "output_type": "display_data"
    }
   ],
   "source": [
    "plot_apo_transport2(tissue_model,solution,ex_type='EX_X_',cell_type='per00',thresh=1e-6,ybreak=0.15,savebool='ph_suc_v_aa_min_C')"
   ]
  },
  {
   "cell_type": "code",
   "execution_count": 346,
   "metadata": {},
   "outputs": [],
   "source": [
    "def plot_apo_transport2(stem_model,psol,ex_type='_ec_',splitnum=2,cell_type='CC_l',thresh=5e-5,yscale=None,fva_sol_min=None,fva_sol_max=None,rangeplot=None,exclude_rxns=[],ybreak=None,savebool=None,ymax=0):\n",
    "    if not rangeplot:\n",
    "        labels=[rxn.id for rxn in stem_model.reactions if ((cell_type in rxn.id)and(ex_type in rxn.id)and abs(psol[rxn.id])>thresh)and not any([x in rxn.id for x in exclude_rxns])]\n",
    "    else:\n",
    "        labels=[rxn for rxn in list(fva_sol_min.keys()) if ((cell_type in rxn.id)and(ex_type in rxn.id)and (abs(fva_sol_min[rxn])>thresh or abs(fva_sol_max[rxn])>thresh))and not any([x in rxn for x in exclude_rxns])]\n",
    "    labels = sorted(labels, key=lambda x: x[-1:-5:-1],reverse=True)\n",
    "    data1=[psol[rxn] for rxn in labels]\n",
    "    if rangeplot:\n",
    "        datamax = [round(fva_sol_max[rxn]-psol[rxn],4) for rxn in labels]\n",
    "        datamin = [round(psol[rxn]-fva_sol_min[rxn],4) for rxn in labels]\n",
    "#         print(labels)\n",
    "#         print(data1)\n",
    "#         print(datamax)\n",
    "#         print(datamin)\n",
    "    labels = ['_'.join(x.split('_')[2:-splitnum]) for x in labels]\n",
    "    width=0.6\n",
    "    \n",
    "    if ybreak:\n",
    "        fig,(ax,ax2) = plt.subplots(2,1, sharex=True)\n",
    "    plt.xticks(range(len(data1)), labels,rotation='vertical')\n",
    "    if ybreak:\n",
    "        ax.bar(np.arange(len(data1)), data1, width=width)\n",
    "        ax2.bar(np.arange(len(data1)), data1, width=width)\n",
    "        ax2.set_ylim(0,ybreak)\n",
    "        min2 = min([x for x in data1 if x>ybreak])\n",
    "        max2 = max(1.05*max(data1),ymax)\n",
    "        ax.set_ylim(0.95*min2,max2)\n",
    "        ax2.spines['top'].set_visible(False)\n",
    "        ax.spines['bottom'].set_visible(False)\n",
    "        ax.xaxis.tick_top()\n",
    "        ax.tick_params(labeltop=False)\n",
    "        ax2.xaxis.tick_bottom()\n",
    "        \n",
    "        d = .5  # proportion of vertical to horizontal extent of the slanted line\n",
    "        kwargs = dict(marker=[(-1, -d), (1, d)], markersize=12,\n",
    "                      linestyle=\"none\", color='k', mec='k', mew=1, clip_on=False)\n",
    "        ax.plot([0, 1], [0, 0], transform=ax.transAxes, **kwargs)\n",
    "        ax2.plot([0, 1], [1, 1], transform=ax2.transAxes, **kwargs)\n",
    "        ax.yaxis.set_major_formatter(FormatStrFormatter('%.3f'))\n",
    "        ax2.yaxis.set_major_formatter(FormatStrFormatter('%.3f'))\n",
    "        if rangeplot:\n",
    "            ax.errorbar(np.arange(len(data1)),\n",
    "                data1,\n",
    "                yerr=[datamin,datamax], \n",
    "                fmt=\"o\", markersize=1,color=\"grey\",label='_nolegend_',capsize=5)\n",
    "            ax2.errorbar(np.arange(len(data1)),\n",
    "                data1,\n",
    "                yerr=[datamin,datamax], \n",
    "                fmt=\"o\", markersize=1,color=\"grey\",label='_nolegend_',capsize=5)\n",
    "            print(data1)\n",
    "            print(datamin)\n",
    "            print(datamax)\n",
    "    else:\n",
    "        plt.bar(np.arange(len(data1)), data1, width=width)\n",
    "        plt.ylim(0,max(ymax,max(data1)))\n",
    "        if rangeplot:\n",
    "            plt.errorbar(np.arange(len(data1)),\n",
    "                data1,\n",
    "                yerr=[datamin,datamax], \n",
    "                fmt=\"o\", markersize=1, color=\"grey\",label='_nolegend_',capsize=5)\n",
    "    # plt.bar(np.arange(len(data2))+ width, data2, width=width)\n",
    "#     plt.legend(['apo ->'+cell_type])\n",
    "    plt.ylabel(r'flux ($\\mu$M/m$^2$/s)')\n",
    "    \n",
    "    if yscale:\n",
    "        if not rangeplot and not any([x<-5e-5 for x in data1]):\n",
    "            plt.ylim(0,min(100,yscale))\n",
    "        else:\n",
    "            plt.ylim(max(-80,-yscale),min(100,yscale))\n",
    "    if savebool:\n",
    "        now = datetime.now().strftime('%Y_%m_%d')\n",
    "        plt.savefig('Figures/'+'apo_transport_'+savebool+now+'.png', bbox_inches='tight')\n",
    "    plt.show()\n",
    "\n",
    "\n"
   ]
  },
  {
   "cell_type": "code",
   "execution_count": null,
   "metadata": {},
   "outputs": [],
   "source": [
    "rmodel.reactions.get_by_id(\"ATPase_tx_per00\").lower_bound=0.01\n",
    "remphrxns=[rxn.id for rxn in rmodel.reactions if 'ph_c' in rxn.id]\n",
    "for rxn in remphrxns:\n",
    "    rmodel.remove_reactions([rxn])\n",
    "    sol=rmodel.optimize()\n",
    "    print(sol['CO2_tx_epi00'],rxn)\n",
    "# sol=rmodel.optimize()\n",
    "# print(sol['CO2_tx_epi00'],rxn)\n",
    "# rxn=rmodel.reactions.Phloem_import_reaction\n",
    "\n"
   ]
  },
  {
   "cell_type": "code",
   "execution_count": 339,
   "metadata": {},
   "outputs": [
    {
     "name": "stdout",
     "output_type": "stream",
     "text": [
      "0.0 -3.3437873979485797 ['L_ASPARTATE_ph_c_per00']\n",
      "0.0 -3.6995910287022276 ['THR_ph_c_per00']\n",
      "0.0 -2.8617132138334904 ['SER_ph_c_per00']\n",
      "0.0 -3.30735401615757 ['ASN_ph_c_per00']\n",
      "0.010935774733139733 -1.7478861977582154 ['GLT_ph_c_per00']\n",
      "0.0 -2.5568605693771893 ['GLN_ph_c_per00']\n",
      "0.0 -2.5568605693771893 ['GLY_ph_c_per00']\n",
      "0.0005992115414670266 -1.9876130069228966 ['L_ALPHA_ALANINE_ph_c_per00']\n",
      "0.0 -1.6159914521225767 ['CYS_ph_c_per00']\n",
      "0.004876808291674507 -2.4679826193164303 ['MET_ph_c_per00']\n",
      "0.004691026398439162 -2.502861062331998 ['ILE_ph_c_per00']\n",
      "7.538935630980807e-05 -2.094338606503073 ['LEU_ph_c_per00']\n",
      "7.538935630980807e-05 -5.4797083304093235 ['4_AMINO_BUTYRATE_ph_c_per00', 'TYR_ph_c_per00']\n",
      "9.489781510815648e-05 -3.3486565106733357 ['PHE_ph_c_per00']\n",
      "9.489781510815648e-05 -3.3488452788949354 ['LYS_ph_c_per00']\n",
      "0.00010037364142264632 -2.2303594926292067 ['HIS_ph_c_per00']\n",
      "0.0 -5.082460559547423 ['ARG_ph_c_per00']\n",
      "0.0 -5.082460559547575 []\n",
      "0.0 -5.082460559547575 []\n",
      "0.0 -5.082460559547575 []\n",
      "0.0 -5.082460559547575 []\n",
      "0.0 -5.082460559547575 []\n",
      "0.0 -5.082460559547575 []\n",
      "0.0 -5.082460559547575 []\n"
     ]
    }
   ],
   "source": [
    "import pandas as pd\n",
    "from cobra import Reaction, Metabolite\n",
    "\n",
    "# Restrict phloem import\n",
    "# Replace all ph_per reactions with phloem import reactions\n",
    "rmodel.reactions.get_by_id(\"ATPase_tx_per00\").lower_bound=0.01\n",
    "phrxns=[rxn.id for rxn in rmodel.reactions if 'ph_c' in rxn.id]\n",
    "ph_ratios = pd.read_csv(rootsdir+'Phloem_composition_z_maize.csv')\n",
    "ph_mets = list(ph_ratios['met_id'])\n",
    "ph_nums = list(ph_ratios['Oshima1990'])\n",
    "ph_imp_rxn = Reaction('Phloem_import_reaction')\n",
    "rmodel.add_reaction(ph_imp_rxn)\n",
    "phsuffix = '_ph_per00'\n",
    "persuffix = '_c_per00'\n",
    "for ii in range(1,len(ph_nums)):\n",
    "    if not any([ph_mets[ii]+phsuffix in met.id for met in rmodel.metabolites]):\n",
    "        newmet = Metabolite(ph_mets[ii]+phsuffix,compartment='ph_per00',name=ph_mets[ii],formula=rmodel.metabolites.get_by_id(ph_mets[ii]+persuffix).formula)\n",
    "        metinrxn = Reaction('EX_X_'+ph_mets[ii]+phsuffix)\n",
    "        metinrxn.add_metabolites({newmet:1})\n",
    "        rmodel.add_reaction(metinrxn)\n",
    "        print(adda)\n",
    "    rmodel.remove_reactions([rxn for rxn in phrxns if ph_mets[ii] in rxn])\n",
    "    ph_imp_rxn.add_metabolites({ph_mets[ii]+phsuffix:-ph_nums[ii],ph_mets[ii]+persuffix:ph_nums[ii]})\n",
    "    sol=rmodel.optimize()\n",
    "    print(sol['Phloem_import_reaction'],sol['CO2_tx_epi00'],[rxn for rxn in phrxns if ph_mets[ii] in rxn])\n"
   ]
  },
  {
   "cell_type": "code",
   "execution_count": 341,
   "metadata": {},
   "outputs": [
    {
     "name": "stdout",
     "output_type": "stream",
     "text": [
      "L_ASPARTATE_ph_per00 ['Phloem_import_reaction', 'EX_X_L_ASPARTATE_ph_per00']\n",
      "L_ASPARTATE_c_per00 ['Phloem_import_reaction', 'ASPARAGHYD_RXN_c_per00', 'L_ASPARTATE_PROTON_vc_per00', 'sASP_biomass_per00', 'L_ASPARTATE_c_end00_Transfer_end00_to_per00', 'L_ASPARTATE_pc_per00', 'L_ASPARTATE_GLU_mc_per00', 'L_ASPARTATE_xc_per00', 'L_ASPARTATE_c_biomass_per00', 'L_ASPARTATE_PROTON_rev_vc_per00', 'ASNSYNA_RXN_c_per00', 'ASPARTATE_TRNA_LIGASE_RXN_c_per00', 'ASPAMINOTRANS_RXN_c_per00']\n",
      "THR_ph_per00 ['Phloem_import_reaction', 'EX_X_THR_ph_per00']\n",
      "THR_c_per00 ['Phloem_import_reaction', 'THREONINE_TRNA_LIGASE_RXN_c_per00', 'THR_PROTON_vc_per00', 'sTHR_biomass_per00', 'THREONINE_ALDOLASE_RXN_c_per00', 'THR_c_biomass_per00', 'THR_PROTON_rev_vc_per00', 'THR_pc_per00', 'THR_c_end00_Transfer_end00_to_per00']\n",
      "SER_ph_per00 ['Phloem_import_reaction', 'EX_X_SER_ph_per00']\n",
      "SER_c_per00 ['Phloem_import_reaction', 'RXN_5641_c_per00', 'SER_PROTON_rev_vc_per00', 'DSERDEAM_RXN_c_per00', 'SERINE_O_ACETTRAN_RXN_c_per00', 'SER_pc_per00', 'SER_mc_per00', 'SERINE_TRNA_LIGASE_RXN_c_per00', 'GLYOHMETRANS_RXN_c_per00', 'sSER_biomass_per00', 'SER_xc_per00', 'SER_PROTON_vc_per00', 'SER_c_biomass_per00', 'SER_c_end00_Transfer_end00_to_per00']\n",
      "ASN_ph_per00 ['Phloem_import_reaction', 'EX_X_ASN_ph_per00']\n",
      "ASN_c_per00 ['Phloem_import_reaction', 'ASPARAGHYD_RXN_c_per00', 'ASN_c_end00_Transfer_end00_to_per00', 'ASPARAGINE_TRNA_LIGASE_RXN_c_per00', 'ASN_PROTON_vc_per00', 'ASN_c_biomass_per00', 'ASNSYNA_RXN_c_per00', 'ASN_PROTON_rev_vc_per00', 'sASN_biomass_per00']\n",
      "GLT_ph_per00 ['EX_X_GLT_ph_per00', 'Phloem_import_reaction']\n",
      "GLT_c_per00 ['Phloem_import_reaction', 'GLT_xc_per00', 'GLT_MAL_pc_per00', 'sGLU_biomass_per00', 'GLUTDECARBOX_RXN_c_per00', 'PRO_GLU_mc_per00', 'GLT_PROTON_vc_per00', 'TYROSINE_AMINOTRANSFERASE_RXN_c_per00', 'GLT_PROTON_rev_vc_per00', 'GLUTKIN_RXN_c_per00', '2_AMINOADIPATE_AMINOTRANSFERASE_RXN_c_per00', 'GLURS_RXN_c_per00', 'L_ASPARTATE_GLU_mc_per00', 'GLT_c_biomass_per00', 'GLN_GLU_pc_per00', 'GMP_SYN_GLUT_RXN_c_per00', 'GLUTAMINESYN_RXN_c_per00', 'ALANINE_AMINOTRANSFERASE_RXN_c_per00', 'GLN_GLU_mc_per00', '1_PERIOD_5_PERIOD_1_PERIOD_9_RXN_c_per00', 'GLT_c_end00_Transfer_end00_to_per00', 'ASPAMINOTRANS_RXN_c_per00']\n",
      "GLY_ph_per00 ['Phloem_import_reaction', 'EX_X_GLY_ph_per00']\n",
      "GLY_c_per00 ['GLY_PROTON_rev_vc_per00', 'Phloem_import_reaction', 'GLYCINE_TRNA_LIGASE_RXN_c_per00', 'GLY_pc_per00', 'GLY_mc_per00', 'THREONINE_ALDOLASE_RXN_c_per00', 'GLY_c_end00_Transfer_end00_to_per00', 'GLY_c_biomass_per00', 'GLY_xc_per00', 'GLYOHMETRANS_RXN_c_per00', 'sGLY_biomass_per00', 'GLY_PROTON_vc_per00']\n",
      "L_ALPHA_ALANINE_ph_per00 ['Phloem_import_reaction', 'EX_X_L_ALPHA_ALANINE_ph_per00']\n",
      "L_ALPHA_ALANINE_c_per00 ['Phloem_import_reaction', 'L_ALPHA_ALANINE_PROTON_vc_per00', 'L_ALPHA_ALANINE_c_end00_Transfer_end00_to_per00', 'sALA_biomass_per00', 'L_ALPHA_ALANINE_PROTON_rev_vc_per00', 'ALANINE_TRNA_LIGASE_RXN_c_per00', 'ALANINE_AMINOTRANSFERASE_RXN_c_per00', 'L_ALPHA_ALANINE_c_biomass_per00']\n",
      "MET_ph_per00 ['EX_X_MET_ph_per00', 'Phloem_import_reaction']\n",
      "MET_c_per00 ['HOMOCYSMETB12_RXN_c_per00', 'Phloem_import_reaction', 'sMET_biomass_per00', 'MET_c_end00_Transfer_end00_to_per00', 'MET_pc_per00', 'MET_PROTON_vc_per00', 'MET_PROTON_rev_vc_per00', 'S_ADENMETSYN_RXN_c_per00', 'METHIONINE_TRNA_LIGASE_RXN_c_per00', 'MET_c_biomass_per00']\n",
      "ILE_ph_per00 ['Phloem_import_reaction', 'EX_X_ILE_ph_per00']\n",
      "ILE_c_per00 ['ILE_mc_per00', 'Phloem_import_reaction', 'ILE_c_biomass_per00', 'sILE_biomass_per00', 'ISOLEUCINE_TRNA_LIGASE_RXN_c_per00', 'ILE_PROTON_rev_vc_per00', 'ILE_PROTON_vc_per00', 'ILE_pc_per00', 'ILE_c_end00_Transfer_end00_to_per00']\n",
      "LEU_ph_per00 ['Phloem_import_reaction', 'EX_X_LEU_ph_per00']\n",
      "LEU_c_per00 ['LEU_c_end00_Transfer_end00_to_per00', 'Phloem_import_reaction', 'LEU_PROTON_rev_vc_per00', 'LEU_mc_per00', 'LEUCINE_TRNA_LIGASE_RXN_c_per00', 'LEU_pc_per00', 'LEU_PROTON_vc_per00', 'sLEU_biomass_per00']\n",
      "TYR_ph_per00 ['Phloem_import_reaction', 'EX_X_TYR_ph_per00']\n",
      "TYR_c_per00 ['Phloem_import_reaction', 'TYR_PROTON_rev_vc_per00', 'TYR_c_biomass_per00', 'TYR_PROTON_vc_per00', 'sTYR_biomass_per00', 'TYR_pc_per00', 'TYR_c_end00_Transfer_end00_to_per00', 'TYROSINE_TRNA_LIGASE_RXN_c_per00', 'TYROSINE_AMINOTRANSFERASE_RXN_c_per00']\n",
      "PHE_ph_per00 ['Phloem_import_reaction', 'EX_X_PHE_ph_per00']\n",
      "PHE_c_per00 ['Phloem_import_reaction', 'PHE_PROTON_rev_vc_per00', 'PHE_c_end00_Transfer_end00_to_per00', 'sPHE_biomass_per00', 'PHE_PROTON_vc_per00', 'PHE_c_biomass_per00', 'PHENYLALANINE_TRNA_LIGASE_RXN_c_per00', 'PHE_pc_per00', 'PHE_NH4_Lyase_c_per00']\n",
      "LYS_ph_per00 ['Phloem_import_reaction', 'EX_X_LYS_ph_per00']\n",
      "LYS_c_per00 ['Phloem_import_reaction', 'sLYS_biomass_per00', 'LYSINE_TRNA_LIGASE_RXN_c_per00', 'LYS_ORNITHINE_mc_per00', 'LYS_c_biomass_per00', 'ARG_LYS_mc_per00', '1_PERIOD_5_PERIOD_1_PERIOD_8_RXN_c_per00', 'LYS_c_end00_Transfer_end00_to_per00', 'LYS_PROTON_vc_per00', 'LYS_pc_per00', 'LYS_PROTON_rev_vc_per00']\n",
      "HIS_ph_per00 ['EX_X_HIS_ph_per00', 'Phloem_import_reaction']\n",
      "HIS_c_per00 ['Phloem_import_reaction', 'HIS_PROTON_rev_vc_per00', 'HIS_pc_per00', 'HIS_CITRULLINE_mc_per00', 'HIS_PROTON_vc_per00', 'HIS_c_end00_Transfer_end00_to_per00', 'HISTIDINE_TRNA_LIGASE_RXN_c_per00', 'HIS_ORNITHINE_mc_per00', 'sHIS_biomass_per00', 'ARG_HIS_mc_per00']\n",
      "ARG_ph_per00 ['Phloem_import_reaction', 'EX_X_ARG_ph_per00']\n",
      "ARG_c_per00 ['Phloem_import_reaction', 'ARG_CITRULLINE_mc_per00', 'ARG_mc_per00', 'ARGININE_TRNA_LIGASE_RXN_c_per00', 'ARG_PROTON_vc_per00', 'ARG_ORNITHINE_mc_per00', 'ARG_PROTON_rev_vc_per00', 'ARG_pc_per00', 'ARG_LYS_mc_per00', 'sARG_biomass_per00', 'ARG_c_end00_Transfer_end00_to_per00', 'ARG_HIS_mc_per00']\n",
      "AMP_ph_per00 ['Phloem_import_reaction', 'EX_X_AMP_ph_per00']\n",
      "AMP_c_per00 ['THREONINE_TRNA_LIGASE_RXN_c_per00', 'CYS_TRNA_LIGASE_RXN_c_per00', 'ASNSYNA_RXN_c_per00', 'HISTIDINE_TRNA_LIGASE_RXN_c_per00', 'GLURS_RXN_c_per00', 'GLUTAMINE_TRNA_LIGASE_RXN_c_per00', 'GMP_SYN_GLUT_RXN_c_per00', 'FattyAcid_biomass_per00', 'ISOLEUCINE_TRNA_LIGASE_RXN_c_per00', '6_PERIOD_2_PERIOD_1_PERIOD_34_RXN_c_per00', 'Phloem_import_reaction', 'PYRUVATEORTHOPHOSPHATE_DIKINASE_RXN_c_per00', 'ASPARTATE_TRNA_LIGASE_RXN_c_per00', 'LEUCINE_TRNA_LIGASE_RXN_c_per00', 'ATP_AMP_mc_per00', 'AMP_ATP_xc_per00', 'TYROSINE_TRNA_LIGASE_RXN_c_per00', 'ADENOSINE_KINASE_RXN_c_per00', 'METHIONINE_TRNA_LIGASE_RXN_c_per00', 'TRP_TRNA_LIGASE_RXN_c_per00', 'AMP_pc_per00', 'ARGININE_TRNA_LIGASE_RXN_c_per00', 'GLYCINE_TRNA_LIGASE_RXN_c_per00', 'ASPARAGINE_TRNA_LIGASE_RXN_c_per00', 'PHENYLALANINE_TRNA_LIGASE_RXN_c_per00', 'AMP_c_end00_Transfer_end00_to_per00', 'ADENYL_KIN_RXN_c_per00', 'PRO_TRNA_LIGASE_RXN_c_per00', 'SERINE_TRNA_LIGASE_RXN_c_per00', 'AMP_DEAMINASE_RXN_c_per00', '4_COUMARATE_COA_LIGASE_RXN_c_per00', 'ALANINE_TRNA_LIGASE_RXN_c_per00', 'LYSINE_TRNA_LIGASE_RXN_c_per00', 'VALINE_TRNA_LIGASE_RXN_c_per00']\n",
      "UDP_ph_per00 ['Phloem_import_reaction', 'EX_X_UDP_ph_per00']\n",
      "UDP_c_per00 ['2_PERIOD_4_PERIOD_1_PERIOD_111_RXN_c_per00', 'Phloem_import_reaction', 'SUCROSE_SYNTHASE_RXN_c_per00', 'RXN_9104_c_per00', 'SUCROSE_PHOSPHATE_SYNTHASE_RXN_c_per00', 'RXN_1225_p_per00', '2_PERIOD_4_PERIOD_1_PERIOD_46_RXN_p_per00', 'UDPKIN_RXN_c_per00', 'UDP_c_end00_Transfer_end00_to_per00', 'CELLULOSE_SYNTHASE_UDP_FORMING_RXN_c_per00']\n",
      "ADP_ph_per00 ['Phloem_import_reaction', 'EX_X_ADP_ph_per00']\n",
      "ADP_c_per00 ['GLUCOKIN_RXN_c_per00', 'ATPase_tx_per00', 'Protein_Translocation_c_per00', 'NADH_KINASE_RXN_c_per00', 'DTDPKIN_RXN_c_per00', 'ATP_CITRATE_PRO_S_LYASE_RXN_c_per00', '6PFRUCTPHOS_RXN_c_per00', 'GLUCURONOKINASE_RXN_c_per00', 'CAII_c_xy_per00', 'UDPKIN_RXN_c_per00', 'Protein_Processing_c_per00', 'HEXOKINASE_RXN_MANNOSE_c_per00', 'GLUTKIN_RXN_c_per00', 'GDPKIN_RXN_c_per00', 'PROTON_ATPase_c_xy_per00', 'Phloem_import_reaction', 'ATP_ADP_Pi_pc_per00', 'ADP_pc_per00', 'DTMPKI_RXN_c_per00', 'PROTONATP_rev_vc_per00', 'ADENOSINE_KINASE_RXN_c_per00', 'ADP_c_end00_Transfer_end00_to_per00', 'PEPDEPHOS_RXN_c_per00', 'ATP_ADP_mc_per00', 'PHOSGLYPHOS_RXN_c_per00', 'PROTON_ATPase_c_ph_per00', 'ADENYL_KIN_RXN_c_per00', 'GUANYL_KIN_RXN_c_per00', 'ETHANOLAMINE_KINASE_RXN_c_per00', 'GLUTAMINESYN_RXN_c_per00', 'PEPCARBOXYKIN_RXN_c_per00', 'IPP_biosynthesis_c_per00', 'FRUCTOKINASE_RXN_c_per00']\n",
      "GDP_ph_per00 ['Phloem_import_reaction', 'EX_X_GDP_ph_per00']\n",
      "GDP_c_per00 ['Phloem_import_reaction', 'CELLULOSE_SYNTHASE_GDP_FORMING_RXN_c_per00', 'GDP_c_end00_Transfer_end00_to_per00', 'Protein_Polymerisation_c_per00', 'GUANYL_KIN_RXN_c_per00', 'RXN_12486_c_per00', 'MANNPGUANYLTRANGDP_RXN_c_per00', 'GDPKIN_RXN_c_per00']\n",
      "UTP_ph_per00 ['Phloem_import_reaction', 'EX_X_UTP_ph_per00']\n",
      "UTP_c_per00 ['Phloem_import_reaction', 'UDPKIN_RXN_c_per00', 'GLUC1PURIDYLTRANS_RXN_c_per00', 'UTP_c_end00_Transfer_end00_to_per00', '2_PERIOD_7_PERIOD_7_PERIOD_44_RXN_c_per00']\n",
      "ATP_ph_per00 ['EX_X_ATP_ph_per00', 'Phloem_import_reaction']\n",
      "ATP_c_per00 ['THREONINE_TRNA_LIGASE_RXN_c_per00', 'GLUCOKIN_RXN_c_per00', 'CYS_TRNA_LIGASE_RXN_c_per00', 'ATPase_tx_per00', 'FRUCTOKINASE_RXN_c_per00', 'Protein_Translocation_c_per00', '4_COUMARATE_COA_LIGASE_RXN_c_per00', 'ATP_pc_per00', 'ASNSYNA_RXN_c_per00', 'HISTIDINE_TRNA_LIGASE_RXN_c_per00', 'NADH_KINASE_RXN_c_per00', 'DTDPKIN_RXN_c_per00', 'ATP_CITRATE_PRO_S_LYASE_RXN_c_per00', 'GLURS_RXN_c_per00', '6PFRUCTPHOS_RXN_c_per00', 'GLUTAMINE_TRNA_LIGASE_RXN_c_per00', 'GLUCURONOKINASE_RXN_c_per00', 'CAII_c_xy_per00', 'S_ADENMETSYN_RXN_c_per00', 'UDPKIN_RXN_c_per00', 'GMP_SYN_GLUT_RXN_c_per00', 'FattyAcid_biomass_per00', 'ISOLEUCINE_TRNA_LIGASE_RXN_c_per00', 'Protein_Processing_c_per00', 'HEXOKINASE_RXN_MANNOSE_c_per00', 'GLUTKIN_RXN_c_per00', 'GDPKIN_RXN_c_per00', 'ATP_c_end00_Transfer_end00_to_per00', '6_PERIOD_2_PERIOD_1_PERIOD_34_RXN_c_per00', 'PROTON_ATPase_c_xy_per00', 'ALANINE_TRNA_LIGASE_RXN_c_per00', 'IPP_biosynthesis_c_per00', 'PYRUVATEORTHOPHOSPHATE_DIKINASE_RXN_c_per00', 'Phloem_import_reaction', 'ASPARTATE_TRNA_LIGASE_RXN_c_per00', 'LEUCINE_TRNA_LIGASE_RXN_c_per00', 'DTMPKI_RXN_c_per00', 'ATP_AMP_mc_per00', 'AMP_ATP_xc_per00', 'PROTONATP_rev_vc_per00', 'TYROSINE_TRNA_LIGASE_RXN_c_per00', 'ADENOSINE_KINASE_RXN_c_per00', 'PEPDEPHOS_RXN_c_per00', 'METHIONINE_TRNA_LIGASE_RXN_c_per00', 'ATP_ADP_mc_per00', 'PHOSGLYPHOS_RXN_c_per00', 'TRP_TRNA_LIGASE_RXN_c_per00', 'PROTON_ATPase_c_ph_per00', 'ARGININE_TRNA_LIGASE_RXN_c_per00', 'GLYCINE_TRNA_LIGASE_RXN_c_per00', 'ASPARAGINE_TRNA_LIGASE_RXN_c_per00', 'PHENYLALANINE_TRNA_LIGASE_RXN_c_per00', 'ADENYL_KIN_RXN_c_per00', 'PRO_TRNA_LIGASE_RXN_c_per00', 'GUANYL_KIN_RXN_c_per00', 'ETHANOLAMINE_KINASE_RXN_c_per00', 'SERINE_TRNA_LIGASE_RXN_c_per00', 'GLUTAMINESYN_RXN_c_per00', 'PEPCARBOXYKIN_RXN_c_per00', 'ATP_ADP_Pi_pc_per00', 'LYSINE_TRNA_LIGASE_RXN_c_per00', 'VALINE_TRNA_LIGASE_RXN_c_per00']\n",
      "GTP_ph_per00 ['EX_X_GTP_ph_per00', 'Phloem_import_reaction']\n",
      "GTP_c_per00 ['Phloem_import_reaction', 'Protein_Polymerisation_c_per00', '2_PERIOD_7_PERIOD_7_PERIOD_13_RXN_c_per00', 'GTP_c_end00_Transfer_end00_to_per00', '2_PERIOD_7_PERIOD_7_PERIOD_34_RXN_c_per00', 'GDPKIN_RXN_c_per00']\n"
     ]
    }
   ],
   "source": [
    "for met in rmodel.reactions.Phloem_import_reaction.metabolites:\n",
    "    print(met.id,[rxn.id for rxn in met.reactions])"
   ]
  },
  {
   "cell_type": "code",
   "execution_count": 417,
   "metadata": {},
   "outputs": [
    {
     "data": {
      "text/plain": [
       "['FRU_ph_c_per00',\n",
       " 'PRO_ph_c_per00',\n",
       " 'TRP_ph_c_per00',\n",
       " 'GLC_ph_c_per00',\n",
       " 'VAL_ph_c_per00']"
      ]
     },
     "execution_count": 417,
     "metadata": {},
     "output_type": "execute_result"
    }
   ],
   "source": [
    "remphrxns"
   ]
  },
  {
   "cell_type": "code",
   "execution_count": 425,
   "metadata": {},
   "outputs": [
    {
     "name": "stdout",
     "output_type": "stream",
     "text": [
      "-3.861527151234575 FRU_ph_c_per00\n",
      "-3.150467448258679 PRO_ph_c_per00\n",
      "-2.55908814967007 TRP_ph_c_per00\n",
      "-5.3198480008071245 GLC_ph_c_per00\n",
      "-6.452514764276516 VAL_ph_c_per00\n"
     ]
    }
   ],
   "source": [
    "# remphrxns=[rxn.id for rxn in rmodel.reactions if 'ph_c' in rxn.id and not 'SUCROSE_ph_c_per00' in rxn.id]\n",
    "for rxn in remphrxns:\n",
    "    tissue_model.remove_reactions([rxn])\n",
    "    sol=tissue_model.optimize()\n",
    "    print(sol['CO2_tx_epi00'],rxn)"
   ]
  },
  {
   "cell_type": "code",
   "execution_count": 291,
   "metadata": {},
   "outputs": [
    {
     "name": "stdout",
     "output_type": "stream",
     "text": [
      "0.0038654551041672237 30.378843606406463 VAL_ph_c_per00\n"
     ]
    }
   ],
   "source": [
    "sol=rmodel.optimize()\n",
    "print(sol['Phloem_import_reaction'],sol['CO2_tx_epi00'],rxn)"
   ]
  },
  {
   "cell_type": "code",
   "execution_count": null,
   "metadata": {},
   "outputs": [],
   "source": [
    "for rxn in rmodel.reactions:\n",
    "    if 'CO2_tx' in rxn.id:\n",
    "        print(sol[rxn.id],rxn.id)\n",
    "        print(rxn.reaction)"
   ]
  },
  {
   "cell_type": "code",
   "execution_count": 294,
   "metadata": {},
   "outputs": [
    {
     "name": "stdout",
     "output_type": "stream",
     "text": [
      "284.84324549151694 RXN_9650_p_epi00\n",
      "0.014130046923421027 RXN_5682_p_epi00\n",
      "284.84324549151694 2_PERIOD_3_PERIOD_1_PERIOD_180_RXN_p_epi00\n",
      "284.84324549151694 RXN_9654_p_epi00\n",
      "2243.762137563203 RXN0_5224_c_epi00\n",
      "2278.7304549736273 RXN0_5224_p_epi00\n",
      "3702.9318629285 CO2_pc_epi00\n",
      "30.378843606406463 CO2_tx_epi00\n",
      "-41.00424521687943 CO2_xc_epi00\n",
      "2563.5737004651446 PYRUVDEH_RXN_p_epi00\n",
      "284.84324549151694 RXN_9531_p_epi00\n",
      "-41.00424521687943 GLUTACONYL_COA_DECARBOXYLASE_RXN_x_epi00\n",
      "30.378843606406463 CO2_ec_epi00\n",
      "284.84324549151694 RXN_9651_p_epi00\n",
      "375.60347084131354 GCVMULTI_RXN_m_epi00\n",
      "284.84324549151694 RXN_9535_p_epi00\n",
      "375.60347084131354 CO2_mc_epi00\n",
      "284.84324549151694 RXN_9648_p_epi00\n",
      "1139.358162463352 6PGLUCONDEHYDROG_RXN_p_epi00\n",
      "-0.014130046923421027 CARBOXYCYCLOHEXADIENYL_DEHYDRATASE_RXN_p_epi00\n",
      "284.82773653300893 RXN_9632_p_epi00\n",
      "761.8160063808283 IGPSYN_RXN_p_cor00\n",
      "1044.7680763157343 ISOCITRATE_DEHYDROGENASE_NAD_RXN_m_cor00\n",
      "-284.8128970259471 RXN_9523_p_cor00\n",
      "-284.8128970259471 2_PERIOD_3_PERIOD_1_PERIOD_180_RXN_p_cor00\n",
      "-2278.5180157146388 RXN0_5224_p_cor00\n",
      "-2271.576967981846 CO2_pc_cor00\n",
      "1431.0205430202893 1_PERIOD_2_PERIOD_1_PERIOD_2_RXN_p_cor00\n",
      "-1431.0205430202893 ISOCITDEH_RXN_c_cor00\n",
      "-2563.3347079427003 PYRUVDEH_RXN_p_cor00\n",
      "-1065.863824281763 PYRUVDEH_RXN_m_cor00\n",
      "-0.003795202114446534 RXN_7800_p_cor00\n",
      "-284.8128970259471 RXN_9531_p_cor00\n",
      "-1066.0881352990007 2OXOGLUTARATEDEH_RXN_m_cor00\n",
      "-284.8128970259471 RXN_9651_p_cor00\n",
      "-0.0029254447544335726 2_KETO_ADIPATE_DEHYDROG_RXN_m_cor00\n",
      "-284.8128970259471 RXN_9535_p_cor00\n",
      "-1087.186808709784 CO2_mc_cor00\n",
      "-284.8128970259471 RXN_9648_p_cor00\n",
      "-1139.2590078573194 6PGLUCONDEHYDROG_RXN_p_cor00\n",
      "-284.8128970259471 RXN_9539_p_cor00\n",
      "-761.8160063808283 CARBOXYCYCLOHEXADIENYL_DEHYDRATASE_RXN_p_cor00\n",
      "-284.82773653300876 RXN_9632_p_cor00\n",
      "-0.0007091890652093203 IGPSYN_RXN_p_cor01\n",
      "0.0141381838840549 RXN_9650_p_cor01\n",
      "0.0141381838840549 2_PERIOD_3_PERIOD_1_PERIOD_180_RXN_p_cor01\n",
      "0.09896728718838431 RXN0_5224_p_cor01\n",
      "0.1483127372297237 CO2_pc_cor01\n",
      "0.0141381838840549 RXN_9527_p_cor01\n",
      "3047.4874308405488 1_PERIOD_2_PERIOD_1_PERIOD_2_RXN_m_cor01\n",
      "-7.824238163125148e-06 ISOCITDEH_RXN_x_cor01\n",
      "-843.8160653217278 ISOCITDEH_RXN_c_cor01\n",
      "9.780297703906437e-05 CO2_xc_cor01\n",
      "0.10240900705779249 PYRUVDEH_RXN_p_cor01\n",
      "0.0141381838840549 RXN_9653_p_cor01\n",
      "0.0141381838840549 RXN_9531_p_cor01\n",
      "0.00012127569152843981 GLUTACONYL_COA_DECARBOXYLASE_RXN_x_cor01\n",
      "761.8167490567539 GCVMULTI_RXN_m_cor01\n",
      "-0.0012451872773081712 HMBPP_synthesis_p_cor01\n",
      "-7.824238163125148e-06 A_B_oxidation_x_cor01\n",
      "3809.3041798973027 CO2_mc_cor01\n",
      "0.0141381838840549 RXN_9648_p_cor01\n",
      "0.04714891744923933 6PGLUCONDEHYDROG_RXN_p_cor01\n",
      "0.0141381838840549 RXN_9539_p_cor01\n",
      "0.0007091890652093203 CARBOXYCYCLOHEXADIENYL_DEHYDRATASE_RXN_p_cor01\n",
      "0.01327716350404704 RXN_9650_p_cor02\n",
      "0.01327716350404704 2_PERIOD_3_PERIOD_1_PERIOD_180_RXN_p_cor02\n",
      "0.01327716350404704 RXN_9654_p_cor02\n",
      "0.09294014452832927 RXN0_5224_p_cor02\n",
      "-2203.2091574347232 CO2_pc_cor02\n",
      "-2203.363796962441 1_PERIOD_2_PERIOD_1_PERIOD_2_RXN_p_cor02\n",
      "41.00119849643347 CO2_xc_cor02\n",
      "0.10621730803237635 PYRUVDEH_RXN_p_cor02\n",
      "0.01327716350404704 RXN_9531_p_cor02\n",
      "41.00119849643347 GLUTACONYL_COA_DECARBOXYLASE_RXN_x_cor02\n",
      "0.01327716350404704 RXN_9651_p_cor02\n",
      "-0.0019521474216997198 CARBAMATE_KINASE_RXN_p_cor02\n",
      "0.01327716350404704 RXN_9535_p_cor02\n",
      "0.01327716350404704 RXN_9648_p_cor02\n",
      "0.04647007226416464 6PGLUCONDEHYDROG_RXN_p_cor02\n",
      "-761.8440088738755 IGPSYN_RXN_p_cor03\n",
      "0.01236154041612252 RXN_9652_p_cor03\n",
      "0.00014148130180345825 ACETOOHBUTSYN_RXN_p_cor03\n",
      "0.01236154041612252 RXN_9523_p_cor03\n",
      "0.01236154041612252 2_PERIOD_3_PERIOD_1_PERIOD_180_RXN_p_cor03\n",
      "0.08653078291285765 RXN0_5224_p_cor03\n",
      "-0.3063356100507258 CO2_pc_cor03\n",
      "-0.30311606336277136 1_PERIOD_2_PERIOD_1_PERIOD_2_RXN_p_cor03\n",
      "0.01236154041612252 RXN_9516_p_cor03\n",
      "-0.0017033366481123437 CO2_xc_cor03\n",
      "-0.2908960042484523 MALIC_NADP_RXN_p_cor03\n",
      "0.09875084202717671 PYRUVDEH_RXN_p_cor03\n",
      "-0.0017033366481123437 GLUTACONYL_COA_DECARBOXYLASE_RXN_x_cor03\n",
      "0.01236154041612252 RXN_9651_p_cor03\n",
      "0.015076817812358465 GLUTDECARBOX_RXN_c_cor03\n",
      "0.01236154041612252 RXN_9535_p_cor03\n",
      "0.1887841342315255 6PGLUCONDEHYDROG_RXN_p_cor03\n",
      "0.01236154041612252 RXN_9539_p_cor03\n",
      "761.8440088738755 CARBOXYCYCLOHEXADIENYL_DEHYDRATASE_RXN_p_cor03\n",
      "0.0114889610926315 RXN_9523_p_cor04\n",
      "0.0114889610926315 2_PERIOD_3_PERIOD_1_PERIOD_180_RXN_p_cor04\n",
      "0.0804227276484205 RXN0_5224_p_cor04\n",
      "0.091911688741052 PYRUVDEH_RXN_p_cor04\n",
      "0.0114889610926315 RXN_9531_p_cor04\n",
      "0.0114889610926315 RXN_9651_p_cor04\n",
      "0.13570296598752327 CARBAMATE_KINASE_RXN_p_cor04\n",
      "82.01589143474496 GCVMULTI_RXN_m_cor04\n",
      "0.0012451872773081795 HMBPP_synthesis_p_cor04\n",
      "0.0114889610926315 RXN_9535_p_cor04\n",
      "82.01589143474496 CO2_mc_cor04\n",
      "0.0114889610926315 RXN_9648_p_cor04\n",
      "0.042546089969163085 6PGLUCONDEHYDROG_RXN_p_cor04\n",
      "0.0114889610926315 RXN_9539_p_cor04\n",
      "0.0105949082507042 RXN_9652_p_cor05\n",
      "-0.001810666119896263 UREASE_RXN_c_cor05\n",
      "0.0105949082507042 RXN_9523_p_cor05\n",
      "0.0105949082507042 2_PERIOD_3_PERIOD_1_PERIOD_180_RXN_p_cor05\n",
      "0.0105949082507042 RXN_9654_p_cor05\n",
      "0.07416435775492938 RXN0_5224_p_cor05\n",
      "-204.874532518705 CO2_pc_cor05\n",
      "0.0105949082507042 RXN_9527_p_cor05\n",
      "-163.99046631889982 1_PERIOD_2_PERIOD_1_PERIOD_2_RXN_p_cor05\n",
      "0.0847592660056336 PYRUVDEH_RXN_p_cor05\n",
      "0.0105949082507042 RXN_9653_p_cor05\n",
      "0.0105949082507042 RXN_9648_p_cor05\n",
      "-40.968825465810916 6PGLUCONDEHYDROG_RXN_p_cor05\n",
      "0.00983525835412514 RXN_9650_p_cor06\n",
      "0.00983525835412514 2_PERIOD_3_PERIOD_1_PERIOD_180_RXN_p_cor06\n",
      "0.00983525835412514 RXN_9654_p_cor06\n",
      "0.06884680847887598 RXN0_5224_p_cor06\n",
      "0.2768161560001492 CO2_pc_cor06\n",
      "0.07868206683300112 PYRUVDEH_RXN_p_cor06\n",
      "0.00983525835412514 RXN_9531_p_cor06\n",
      "0.00983525835412514 RXN_9651_p_cor06\n",
      "-0.1637106849277101 CARBAMATE_KINASE_RXN_p_cor06\n",
      "-0.0017033366481123437 2_KETO_ADIPATE_DEHYDROG_RXN_m_cor06\n",
      "0.00983525835412514 RXN_9535_p_cor06\n",
      "-0.0017033366481123437 CO2_mc_cor06\n",
      "0.00983525835412514 RXN_9648_p_cor06\n",
      "0.03442340423943799 6PGLUCONDEHYDROG_RXN_p_cor06\n",
      "0.02995986636188656 IGPSYN_RXN_p_cor07\n",
      "0.00903759452626036 RXN_9523_p_cor07\n",
      "0.00903759452626036 2_PERIOD_3_PERIOD_1_PERIOD_180_RXN_p_cor07\n",
      "0.06326316168382251 RXN0_5224_p_cor07\n",
      "0.11891227023293745 CO2_pc_cor07\n",
      "-0.0036554840698120664 1_PERIOD_2_PERIOD_1_PERIOD_2_RXN_m_cor07\n",
      "0.0019521474216997227 ISOCITDEH_RXN_m_cor07\n",
      "-0.00024411623068950448 ISOCITDEH_RXN_x_cor07\n",
      "164.01715489051946 ISOCITDEH_RXN_c_cor07\n",
      "-0.0007323486920685135 CO2_xc_cor07\n",
      "0.07230075621008288 PYRUVDEH_RXN_p_cor07\n",
      "0.00903759452626036 RXN_9531_p_cor07\n",
      "0.00903759452626036 RXN_9651_p_cor07\n",
      "0.0017033366481123437 2_KETO_ADIPATE_DEHYDROG_RXN_m_cor07\n",
      "0.00903759452626036 RXN_9535_p_cor07\n",
      "-0.00024411623068950448 A_B_oxidation_x_cor07\n",
      "0.00903759452626036 RXN_9648_p_cor07\n",
      "0.04661151402285454 6PGLUCONDEHYDROG_RXN_p_cor07\n",
      "0.00903759452626036 RXN_9539_p_cor07\n",
      "-0.029959866361886564 OROTPDECARB_RXN_p_cor07\n",
      "-2965.6365251157818 CARBON_DIOXIDE_c_cor00_Transfer_00_to_01\n",
      "122.86045175007993 CARBON_DIOXIDE_c_cor03_Transfer_03_to_04\n",
      "204.8763431848249 CARBON_DIOXIDE_c_cor04_Transfer_04_to_05\n",
      "0.27511281935203685 CARBON_DIOXIDE_c_cor06_Transfer_06_to_07\n",
      "1824.1477945961374 CARBON_DIOXIDE_c_epi00_Transfer_epi00_to_cor00\n",
      "0.008368143079870702 RXN_9652_p_end00\n",
      "0.01614957152995673 ISOCITRATE_DEHYDROGENASE_NAD_RXN_m_end00\n",
      "0.008368143079870702 RXN_9523_p_end00\n",
      "0.008368143079870702 2_PERIOD_3_PERIOD_1_PERIOD_180_RXN_p_end00\n",
      "0.0561479993263727 RXN0_5224_p_end00\n",
      "0.06150211707111679 CO2_pc_end00\n",
      "-0.013226147545315139 1_PERIOD_2_PERIOD_1_PERIOD_2_RXN_p_end00\n",
      "0.0017033366481123437 CO2_xc_end00\n",
      "0.06694514463896561 PYRUVDEH_RXN_p_end00\n",
      "0.0017033366481123437 GLUTACONYL_COA_DECARBOXYLASE_RXN_x_end00\n",
      "0.008368143079870702 RXN_9651_p_end00\n",
      "0.023934383034803358 CARBAMATE_KINASE_RXN_p_end00\n",
      "0.008368143079870702 RXN_9535_p_end00\n",
      "0.01614957152995673 CO2_mc_end00\n",
      "0.008368143079870702 RXN_9648_p_end00\n",
      "0.029288500779547456 6PGLUCONDEHYDROG_RXN_p_end00\n",
      "0.008368143079870702 RXN_9539_p_end00\n",
      "0.00769869163348106 RXN_9650_p_per00\n",
      "0.00769869163348106 2_PERIOD_3_PERIOD_1_PERIOD_180_RXN_p_per00\n",
      "0.00769869163348106 RXN_9654_p_per00\n",
      "-2243.762137563203 RXN0_5224_c_per00\n",
      "0.05389084143436742 RXN0_5224_p_per00\n",
      "41.12222632732496 CO2_pc_per00\n",
      "0.00769869163348106 RXN_9516_p_per00\n",
      "0.0002519404688526296 ISOCITDEH_RXN_x_per00\n",
      "0.0007558214065578888 CO2_xc_per00\n",
      "0.00769869163348106 MALIC_NADP_RXN_p_per00\n",
      "0.06158953306784848 PYRUVDEH_RXN_p_per00\n",
      "0.00769869163348106 RXN_9531_p_per00\n",
      "0.00769869163348106 RXN_9651_p_per00\n",
      "-0.023934383034803358 CARBAMATE_KINASE_RXN_p_per00\n",
      "-164.01354955134076 GCVMULTI_RXN_m_per00\n",
      "0.00769869163348106 RXN_9535_p_per00\n",
      "0.0002519404688526296 A_B_oxidation_x_per00\n",
      "-164.01354955134076 CO2_mc_per00\n",
      "41.02900371958882 6PGLUCONDEHYDROG_RXN_p_per00\n",
      "-2162.2079589382897 CARBON_DIOXIDE_c_cor02_apoplast_exchange_ap1\n",
      "-123.15341387896642 CARBON_DIOXIDE_c_cor03_apoplast_exchange_ap1\n",
      "164.4104476314135 CARBON_DIOXIDE_c_cor07_apoplast_exchange_ap1\n",
      "2120.9509251858426 CARBON_DIOXIDE_c_end00_apoplast_exchange_ap1\n",
      "-2120.8715701605934 CARBON_DIOXIDE_c_end00_apoplast_exchange_ap2\n",
      "2120.8715701605934 CARBON_DIOXIDE_c_per00_apoplast_exchange_ap2\n"
     ]
    }
   ],
   "source": [
    "for rxn in rmodel.reactions:\n",
    "    if any(['CARBON_DIOXIDE' in met.id for met in rxn.metabolites]) and sol[rxn.id]!=0:\n",
    "        print(sol[rxn.id],rxn.id)"
   ]
  },
  {
   "cell_type": "code",
   "execution_count": 53,
   "metadata": {},
   "outputs": [],
   "source": [
    "io.write_sbml_model(rmodel,rootsdir+'roots_fixed_ph.xml')"
   ]
  },
  {
   "cell_type": "code",
   "execution_count": 483,
   "metadata": {},
   "outputs": [
    {
     "ename": "TypeError",
     "evalue": "'float' object cannot be interpreted as an integer",
     "output_type": "error",
     "traceback": [
      "\u001b[0;31m---------------------------------------------------------------------------\u001b[0m",
      "\u001b[0;31mTypeError\u001b[0m                                 Traceback (most recent call last)",
      "\u001b[0;32m/var/folders/rx/sg79_yds24z7clp5pp_fnpnh0000gp/T/ipykernel_4280/464477071.py\u001b[0m in \u001b[0;36m<module>\u001b[0;34m\u001b[0m\n\u001b[0;32m----> 1\u001b[0;31m \u001b[0mrange\u001b[0m\u001b[0;34m(\u001b[0m\u001b[0;36m0.1\u001b[0m\u001b[0;34m,\u001b[0m\u001b[0;36m1\u001b[0m\u001b[0;34m,\u001b[0m\u001b[0;36m0.3\u001b[0m\u001b[0;34m)\u001b[0m\u001b[0;34m\u001b[0m\u001b[0;34m\u001b[0m\u001b[0m\n\u001b[0m",
      "\u001b[0;31mTypeError\u001b[0m: 'float' object cannot be interpreted as an integer"
     ]
    }
   ],
   "source": [
    "range(0.1,1,0.3)"
   ]
  },
  {
   "cell_type": "code",
   "execution_count": 227,
   "metadata": {},
   "outputs": [
    {
     "name": "stderr",
     "output_type": "stream",
     "text": [
      "No objective coefficients in model. Unclear what should be optimized\n"
     ]
    }
   ],
   "source": [
    "rmodel=io.read_sbml_model(rootsdir+'roots_fixed_ph.xml')"
   ]
  },
  {
   "cell_type": "code",
   "execution_count": 244,
   "metadata": {},
   "outputs": [],
   "source": [
    "for rxn in rmodel.reactions:\n",
    "    if '_ph_c' in rxn.id:\n",
    "        print(rxn.id, rxn.reaction)"
   ]
  },
  {
   "cell_type": "code",
   "execution_count": 263,
   "metadata": {},
   "outputs": [
    {
     "ename": "ContainerAlreadyContains",
     "evalue": "Container '<optlang.container.Container object at 0x7fdbb6e02e80>' already contains an object with name 'ATPase_cell_flux'.",
     "output_type": "error",
     "traceback": [
      "\u001b[0;31m---------------------------------------------------------------------------\u001b[0m",
      "\u001b[0;31mContainerAlreadyContains\u001b[0m                  Traceback (most recent call last)",
      "\u001b[0;32m/var/folders/rx/sg79_yds24z7clp5pp_fnpnh0000gp/T/ipykernel_4280/2946968258.py\u001b[0m in \u001b[0;36m<module>\u001b[0;34m\u001b[0m\n\u001b[1;32m     30\u001b[0m \u001b[0;34m\u001b[0m\u001b[0m\n\u001b[1;32m     31\u001b[0m ATPase_cells_flux  = tissue_model.problem.Constraint(\n\u001b[0;32m---> 32\u001b[0;31m     \u001b[0;34m(\u001b[0m\u001b[0ma\u001b[0m\u001b[0;34m.\u001b[0m\u001b[0mflux_expression\u001b[0m\u001b[0;34m)\u001b[0m \u001b[0;34m-\u001b[0m  \u001b[0mb1\u001b[0m\u001b[0;34m*\u001b[0m\u001b[0;34m(\u001b[0m\u001b[0mb\u001b[0m\u001b[0;34m.\u001b[0m\u001b[0mflux_expression\u001b[0m\u001b[0;34m)\u001b[0m \u001b[0;34m-\u001b[0m  \u001b[0mc1\u001b[0m\u001b[0;34m*\u001b[0m\u001b[0;34m(\u001b[0m\u001b[0mc\u001b[0m\u001b[0;34m.\u001b[0m\u001b[0mflux_expression\u001b[0m\u001b[0;34m)\u001b[0m \u001b[0;34m-\u001b[0m  \u001b[0md1\u001b[0m\u001b[0;34m*\u001b[0m\u001b[0;34m(\u001b[0m\u001b[0md\u001b[0m\u001b[0;34m.\u001b[0m\u001b[0mflux_expression\u001b[0m\u001b[0;34m)\u001b[0m \u001b[0;34m-\u001b[0m  \u001b[0me1\u001b[0m\u001b[0;34m*\u001b[0m\u001b[0;34m(\u001b[0m\u001b[0me\u001b[0m\u001b[0;34m.\u001b[0m\u001b[0mflux_expression\u001b[0m\u001b[0;34m)\u001b[0m \u001b[0;34m-\u001b[0m  \u001b[0mf1\u001b[0m\u001b[0;34m*\u001b[0m\u001b[0;34m(\u001b[0m\u001b[0mf\u001b[0m\u001b[0;34m.\u001b[0m\u001b[0mflux_expression\u001b[0m\u001b[0;34m)\u001b[0m\u001b[0;34m\u001b[0m\u001b[0;34m\u001b[0m\u001b[0m\n\u001b[0m\u001b[1;32m     33\u001b[0m      \u001b[0;34m-\u001b[0m  \u001b[0mg1\u001b[0m\u001b[0;34m*\u001b[0m\u001b[0;34m(\u001b[0m\u001b[0mg\u001b[0m\u001b[0;34m.\u001b[0m\u001b[0mflux_expression\u001b[0m\u001b[0;34m)\u001b[0m \u001b[0;34m-\u001b[0m  \u001b[0mh1\u001b[0m\u001b[0;34m*\u001b[0m\u001b[0;34m(\u001b[0m\u001b[0mh\u001b[0m\u001b[0;34m.\u001b[0m\u001b[0mflux_expression\u001b[0m\u001b[0;34m)\u001b[0m \u001b[0;34m-\u001b[0m  \u001b[0mi1\u001b[0m\u001b[0;34m*\u001b[0m\u001b[0;34m(\u001b[0m\u001b[0mi\u001b[0m\u001b[0;34m.\u001b[0m\u001b[0mflux_expression\u001b[0m\u001b[0;34m)\u001b[0m \u001b[0;34m-\u001b[0m  \u001b[0mj1\u001b[0m\u001b[0;34m*\u001b[0m\u001b[0;34m(\u001b[0m\u001b[0mj\u001b[0m\u001b[0;34m.\u001b[0m\u001b[0mflux_expression\u001b[0m\u001b[0;34m)\u001b[0m \u001b[0;34m-\u001b[0m  \u001b[0mk1\u001b[0m\u001b[0;34m*\u001b[0m\u001b[0;34m(\u001b[0m\u001b[0mk\u001b[0m\u001b[0;34m.\u001b[0m\u001b[0mflux_expression\u001b[0m\u001b[0;34m)\u001b[0m\u001b[0;34m,\u001b[0m\u001b[0;34m\u001b[0m\u001b[0;34m\u001b[0m\u001b[0m\n\u001b[1;32m     34\u001b[0m     \u001b[0mname\u001b[0m \u001b[0;34m=\u001b[0m \u001b[0;34m\"ATPase_cell_flux\"\u001b[0m\u001b[0;34m,\u001b[0m\u001b[0;34m\u001b[0m\u001b[0;34m\u001b[0m\u001b[0m\n",
      "\u001b[0;32m~/opt/anaconda3/lib/python3.9/site-packages/cobra/core/reaction.py\u001b[0m in \u001b[0;36mflux_expression\u001b[0;34m(self)\u001b[0m\n\u001b[1;32m    129\u001b[0m             not associated with a model\"\"\"\n\u001b[1;32m    130\u001b[0m         \u001b[0;32mif\u001b[0m \u001b[0mself\u001b[0m\u001b[0;34m.\u001b[0m\u001b[0mmodel\u001b[0m \u001b[0;32mis\u001b[0m \u001b[0;32mnot\u001b[0m \u001b[0;32mNone\u001b[0m\u001b[0;34m:\u001b[0m\u001b[0;34m\u001b[0m\u001b[0;34m\u001b[0m\u001b[0m\n\u001b[0;32m--> 131\u001b[0;31m             \u001b[0;32mreturn\u001b[0m \u001b[0;36m1.0\u001b[0m \u001b[0;34m*\u001b[0m \u001b[0mself\u001b[0m\u001b[0;34m.\u001b[0m\u001b[0mforward_variable\u001b[0m \u001b[0;34m-\u001b[0m \u001b[0;36m1.0\u001b[0m \u001b[0;34m*\u001b[0m \u001b[0mself\u001b[0m\u001b[0;34m.\u001b[0m\u001b[0mreverse_variable\u001b[0m\u001b[0;34m\u001b[0m\u001b[0;34m\u001b[0m\u001b[0m\n\u001b[0m\u001b[1;32m    132\u001b[0m         \u001b[0;32melse\u001b[0m\u001b[0;34m:\u001b[0m\u001b[0;34m\u001b[0m\u001b[0;34m\u001b[0m\u001b[0m\n\u001b[1;32m    133\u001b[0m             \u001b[0;32mreturn\u001b[0m \u001b[0;32mNone\u001b[0m\u001b[0;34m\u001b[0m\u001b[0;34m\u001b[0m\u001b[0m\n",
      "\u001b[0;32m~/opt/anaconda3/lib/python3.9/site-packages/cobra/core/reaction.py\u001b[0m in \u001b[0;36mforward_variable\u001b[0;34m(self)\u001b[0m\n\u001b[1;32m    144\u001b[0m         \"\"\"\n\u001b[1;32m    145\u001b[0m         \u001b[0;32mif\u001b[0m \u001b[0mself\u001b[0m\u001b[0;34m.\u001b[0m\u001b[0mmodel\u001b[0m \u001b[0;32mis\u001b[0m \u001b[0;32mnot\u001b[0m \u001b[0;32mNone\u001b[0m\u001b[0;34m:\u001b[0m\u001b[0;34m\u001b[0m\u001b[0;34m\u001b[0m\u001b[0m\n\u001b[0;32m--> 146\u001b[0;31m             \u001b[0;32mreturn\u001b[0m \u001b[0mself\u001b[0m\u001b[0;34m.\u001b[0m\u001b[0mmodel\u001b[0m\u001b[0;34m.\u001b[0m\u001b[0mvariables\u001b[0m\u001b[0;34m[\u001b[0m\u001b[0mself\u001b[0m\u001b[0;34m.\u001b[0m\u001b[0mid\u001b[0m\u001b[0;34m]\u001b[0m\u001b[0;34m\u001b[0m\u001b[0;34m\u001b[0m\u001b[0m\n\u001b[0m\u001b[1;32m    147\u001b[0m         \u001b[0;32melse\u001b[0m\u001b[0;34m:\u001b[0m\u001b[0;34m\u001b[0m\u001b[0;34m\u001b[0m\u001b[0m\n\u001b[1;32m    148\u001b[0m             \u001b[0;32mreturn\u001b[0m \u001b[0;32mNone\u001b[0m\u001b[0;34m\u001b[0m\u001b[0;34m\u001b[0m\u001b[0m\n",
      "\u001b[0;32m~/opt/anaconda3/lib/python3.9/site-packages/cobra/core/model.py\u001b[0m in \u001b[0;36mvariables\u001b[0;34m(self)\u001b[0m\n\u001b[1;32m    940\u001b[0m             \u001b[0mA\u001b[0m \u001b[0mcontainer\u001b[0m \u001b[0;32mwith\u001b[0m \u001b[0mall\u001b[0m \u001b[0massociated\u001b[0m \u001b[0mvariables\u001b[0m\u001b[0;34m.\u001b[0m\u001b[0;34m\u001b[0m\u001b[0;34m\u001b[0m\u001b[0m\n\u001b[1;32m    941\u001b[0m         \"\"\"\n\u001b[0;32m--> 942\u001b[0;31m         \u001b[0;32mreturn\u001b[0m \u001b[0mself\u001b[0m\u001b[0;34m.\u001b[0m\u001b[0msolver\u001b[0m\u001b[0;34m.\u001b[0m\u001b[0mvariables\u001b[0m\u001b[0;34m\u001b[0m\u001b[0;34m\u001b[0m\u001b[0m\n\u001b[0m\u001b[1;32m    943\u001b[0m \u001b[0;34m\u001b[0m\u001b[0m\n\u001b[1;32m    944\u001b[0m     \u001b[0;34m@\u001b[0m\u001b[0mproperty\u001b[0m\u001b[0;34m\u001b[0m\u001b[0;34m\u001b[0m\u001b[0m\n",
      "\u001b[0;32m~/opt/anaconda3/lib/python3.9/site-packages/optlang/interface.py\u001b[0m in \u001b[0;36mvariables\u001b[0;34m(self)\u001b[0m\n\u001b[1;32m   1247\u001b[0m     \u001b[0;32mdef\u001b[0m \u001b[0mvariables\u001b[0m\u001b[0;34m(\u001b[0m\u001b[0mself\u001b[0m\u001b[0;34m)\u001b[0m\u001b[0;34m:\u001b[0m\u001b[0;34m\u001b[0m\u001b[0;34m\u001b[0m\u001b[0m\n\u001b[1;32m   1248\u001b[0m         \u001b[0;34m\"\"\"The model variables.\"\"\"\u001b[0m\u001b[0;34m\u001b[0m\u001b[0;34m\u001b[0m\u001b[0m\n\u001b[0;32m-> 1249\u001b[0;31m         \u001b[0mself\u001b[0m\u001b[0;34m.\u001b[0m\u001b[0mupdate\u001b[0m\u001b[0;34m(\u001b[0m\u001b[0;34m)\u001b[0m\u001b[0;34m\u001b[0m\u001b[0;34m\u001b[0m\u001b[0m\n\u001b[0m\u001b[1;32m   1250\u001b[0m         \u001b[0;32mreturn\u001b[0m \u001b[0mself\u001b[0m\u001b[0;34m.\u001b[0m\u001b[0m_variables\u001b[0m\u001b[0;34m\u001b[0m\u001b[0;34m\u001b[0m\u001b[0m\n\u001b[1;32m   1251\u001b[0m \u001b[0;34m\u001b[0m\u001b[0m\n",
      "\u001b[0;32m~/opt/anaconda3/lib/python3.9/site-packages/optlang/gurobi_interface.py\u001b[0m in \u001b[0;36mupdate\u001b[0;34m(self)\u001b[0m\n\u001b[1;32m    669\u001b[0m \u001b[0;34m\u001b[0m\u001b[0m\n\u001b[1;32m    670\u001b[0m     \u001b[0;32mdef\u001b[0m \u001b[0mupdate\u001b[0m\u001b[0;34m(\u001b[0m\u001b[0mself\u001b[0m\u001b[0;34m)\u001b[0m\u001b[0;34m:\u001b[0m\u001b[0;34m\u001b[0m\u001b[0;34m\u001b[0m\u001b[0m\n\u001b[0;32m--> 671\u001b[0;31m         \u001b[0msuper\u001b[0m\u001b[0;34m(\u001b[0m\u001b[0mModel\u001b[0m\u001b[0;34m,\u001b[0m \u001b[0mself\u001b[0m\u001b[0;34m)\u001b[0m\u001b[0;34m.\u001b[0m\u001b[0mupdate\u001b[0m\u001b[0;34m(\u001b[0m\u001b[0mcallback\u001b[0m\u001b[0;34m=\u001b[0m\u001b[0mself\u001b[0m\u001b[0;34m.\u001b[0m\u001b[0mproblem\u001b[0m\u001b[0;34m.\u001b[0m\u001b[0mupdate\u001b[0m\u001b[0;34m)\u001b[0m\u001b[0;34m\u001b[0m\u001b[0;34m\u001b[0m\u001b[0m\n\u001b[0m\u001b[1;32m    672\u001b[0m \u001b[0;34m\u001b[0m\u001b[0m\n\u001b[1;32m    673\u001b[0m     \u001b[0;32mdef\u001b[0m \u001b[0m_optimize\u001b[0m\u001b[0;34m(\u001b[0m\u001b[0mself\u001b[0m\u001b[0;34m)\u001b[0m\u001b[0;34m:\u001b[0m\u001b[0;34m\u001b[0m\u001b[0;34m\u001b[0m\u001b[0m\n",
      "\u001b[0;32m~/opt/anaconda3/lib/python3.9/site-packages/optlang/interface.py\u001b[0m in \u001b[0;36mupdate\u001b[0;34m(self, callback)\u001b[0m\n\u001b[1;32m   1472\u001b[0m         \u001b[0madd_constr\u001b[0m \u001b[0;34m=\u001b[0m \u001b[0mself\u001b[0m\u001b[0;34m.\u001b[0m\u001b[0m_pending_modifications\u001b[0m\u001b[0;34m.\u001b[0m\u001b[0madd_constr\u001b[0m\u001b[0;34m\u001b[0m\u001b[0;34m\u001b[0m\u001b[0m\n\u001b[1;32m   1473\u001b[0m         \u001b[0;32mif\u001b[0m \u001b[0mlen\u001b[0m\u001b[0;34m(\u001b[0m\u001b[0madd_constr\u001b[0m\u001b[0;34m)\u001b[0m \u001b[0;34m>\u001b[0m \u001b[0;36m0\u001b[0m\u001b[0;34m:\u001b[0m\u001b[0;34m\u001b[0m\u001b[0;34m\u001b[0m\u001b[0m\n\u001b[0;32m-> 1474\u001b[0;31m             \u001b[0mself\u001b[0m\u001b[0;34m.\u001b[0m\u001b[0m_add_constraints\u001b[0m\u001b[0;34m(\u001b[0m\u001b[0madd_constr\u001b[0m\u001b[0;34m)\u001b[0m\u001b[0;34m\u001b[0m\u001b[0;34m\u001b[0m\u001b[0m\n\u001b[0m\u001b[1;32m   1475\u001b[0m             \u001b[0mself\u001b[0m\u001b[0;34m.\u001b[0m\u001b[0m_pending_modifications\u001b[0m\u001b[0;34m.\u001b[0m\u001b[0madd_constr\u001b[0m \u001b[0;34m=\u001b[0m \u001b[0;34m[\u001b[0m\u001b[0;34m]\u001b[0m\u001b[0;34m\u001b[0m\u001b[0;34m\u001b[0m\u001b[0m\n\u001b[1;32m   1476\u001b[0m \u001b[0;34m\u001b[0m\u001b[0m\n",
      "\u001b[0;32m~/opt/anaconda3/lib/python3.9/site-packages/optlang/gurobi_interface.py\u001b[0m in \u001b[0;36m_add_constraints\u001b[0;34m(self, constraints, sloppy)\u001b[0m\n\u001b[1;32m    708\u001b[0m \u001b[0;34m\u001b[0m\u001b[0m\n\u001b[1;32m    709\u001b[0m     \u001b[0;32mdef\u001b[0m \u001b[0m_add_constraints\u001b[0m\u001b[0;34m(\u001b[0m\u001b[0mself\u001b[0m\u001b[0;34m,\u001b[0m \u001b[0mconstraints\u001b[0m\u001b[0;34m,\u001b[0m \u001b[0msloppy\u001b[0m\u001b[0;34m=\u001b[0m\u001b[0;32mFalse\u001b[0m\u001b[0;34m)\u001b[0m\u001b[0;34m:\u001b[0m\u001b[0;34m\u001b[0m\u001b[0;34m\u001b[0m\u001b[0m\n\u001b[0;32m--> 710\u001b[0;31m         \u001b[0msuper\u001b[0m\u001b[0;34m(\u001b[0m\u001b[0mModel\u001b[0m\u001b[0;34m,\u001b[0m \u001b[0mself\u001b[0m\u001b[0;34m)\u001b[0m\u001b[0;34m.\u001b[0m\u001b[0m_add_constraints\u001b[0m\u001b[0;34m(\u001b[0m\u001b[0mconstraints\u001b[0m\u001b[0;34m,\u001b[0m \u001b[0msloppy\u001b[0m\u001b[0;34m=\u001b[0m\u001b[0msloppy\u001b[0m\u001b[0;34m)\u001b[0m\u001b[0;34m\u001b[0m\u001b[0;34m\u001b[0m\u001b[0m\n\u001b[0m\u001b[1;32m    711\u001b[0m         \u001b[0;32mfor\u001b[0m \u001b[0mconstraint\u001b[0m \u001b[0;32min\u001b[0m \u001b[0mconstraints\u001b[0m\u001b[0;34m:\u001b[0m\u001b[0;34m\u001b[0m\u001b[0;34m\u001b[0m\u001b[0m\n\u001b[1;32m    712\u001b[0m             \u001b[0;32mif\u001b[0m \u001b[0mconstraint\u001b[0m\u001b[0;34m.\u001b[0m\u001b[0mlb\u001b[0m \u001b[0;32mis\u001b[0m \u001b[0;32mNone\u001b[0m \u001b[0;32mand\u001b[0m \u001b[0mconstraint\u001b[0m\u001b[0;34m.\u001b[0m\u001b[0mub\u001b[0m \u001b[0;32mis\u001b[0m \u001b[0;32mNone\u001b[0m\u001b[0;34m:\u001b[0m\u001b[0;34m\u001b[0m\u001b[0;34m\u001b[0m\u001b[0m\n",
      "\u001b[0;32m~/opt/anaconda3/lib/python3.9/site-packages/optlang/interface.py\u001b[0m in \u001b[0;36m_add_constraints\u001b[0;34m(self, constraints, sloppy)\u001b[0m\n\u001b[1;32m   1581\u001b[0m                     \u001b[0;32mexcept\u001b[0m \u001b[0mKeyError\u001b[0m\u001b[0;34m:\u001b[0m\u001b[0;34m\u001b[0m\u001b[0;34m\u001b[0m\u001b[0m\n\u001b[1;32m   1582\u001b[0m                         \u001b[0mself\u001b[0m\u001b[0;34m.\u001b[0m\u001b[0m_variables_to_constraints_mapping\u001b[0m\u001b[0;34m[\u001b[0m\u001b[0mvar\u001b[0m\u001b[0;34m.\u001b[0m\u001b[0mname\u001b[0m\u001b[0;34m]\u001b[0m \u001b[0;34m=\u001b[0m \u001b[0mset\u001b[0m\u001b[0;34m(\u001b[0m\u001b[0;34m[\u001b[0m\u001b[0mconstraint_id\u001b[0m\u001b[0;34m]\u001b[0m\u001b[0;34m)\u001b[0m\u001b[0;34m\u001b[0m\u001b[0;34m\u001b[0m\u001b[0m\n\u001b[0;32m-> 1583\u001b[0;31m             \u001b[0mself\u001b[0m\u001b[0;34m.\u001b[0m\u001b[0m_constraints\u001b[0m\u001b[0;34m.\u001b[0m\u001b[0mappend\u001b[0m\u001b[0;34m(\u001b[0m\u001b[0mconstraint\u001b[0m\u001b[0;34m)\u001b[0m\u001b[0;34m\u001b[0m\u001b[0;34m\u001b[0m\u001b[0m\n\u001b[0m\u001b[1;32m   1584\u001b[0m             \u001b[0mconstraint\u001b[0m\u001b[0;34m.\u001b[0m\u001b[0m_problem\u001b[0m \u001b[0;34m=\u001b[0m \u001b[0mself\u001b[0m\u001b[0;34m\u001b[0m\u001b[0;34m\u001b[0m\u001b[0m\n\u001b[1;32m   1585\u001b[0m \u001b[0;34m\u001b[0m\u001b[0m\n",
      "\u001b[0;32m~/opt/anaconda3/lib/python3.9/site-packages/optlang/container.py\u001b[0m in \u001b[0;36mappend\u001b[0;34m(self, value)\u001b[0m\n\u001b[1;32m    170\u001b[0m         \u001b[0mname\u001b[0m \u001b[0;34m=\u001b[0m \u001b[0mvalue\u001b[0m\u001b[0;34m.\u001b[0m\u001b[0mname\u001b[0m\u001b[0;34m\u001b[0m\u001b[0;34m\u001b[0m\u001b[0m\n\u001b[1;32m    171\u001b[0m         \u001b[0;32mif\u001b[0m \u001b[0mname\u001b[0m \u001b[0;32min\u001b[0m \u001b[0mself\u001b[0m\u001b[0;34m.\u001b[0m\u001b[0m_dict\u001b[0m\u001b[0;34m:\u001b[0m\u001b[0;34m\u001b[0m\u001b[0;34m\u001b[0m\u001b[0m\n\u001b[0;32m--> 172\u001b[0;31m             \u001b[0;32mraise\u001b[0m \u001b[0mContainerAlreadyContains\u001b[0m\u001b[0;34m(\u001b[0m\u001b[0;34m\"Container '%s' already contains an object with name '%s'.\"\u001b[0m \u001b[0;34m%\u001b[0m \u001b[0;34m(\u001b[0m\u001b[0mself\u001b[0m\u001b[0;34m,\u001b[0m \u001b[0mvalue\u001b[0m\u001b[0;34m.\u001b[0m\u001b[0mname\u001b[0m\u001b[0;34m)\u001b[0m\u001b[0;34m)\u001b[0m\u001b[0;34m\u001b[0m\u001b[0;34m\u001b[0m\u001b[0m\n\u001b[0m\u001b[1;32m    173\u001b[0m         \u001b[0mself\u001b[0m\u001b[0;34m.\u001b[0m\u001b[0m_indices\u001b[0m\u001b[0;34m[\u001b[0m\u001b[0mname\u001b[0m\u001b[0;34m]\u001b[0m \u001b[0;34m=\u001b[0m \u001b[0mlen\u001b[0m\u001b[0;34m(\u001b[0m\u001b[0mself\u001b[0m\u001b[0;34m)\u001b[0m\u001b[0;34m\u001b[0m\u001b[0;34m\u001b[0m\u001b[0m\n\u001b[1;32m    174\u001b[0m         \u001b[0mself\u001b[0m\u001b[0;34m.\u001b[0m\u001b[0m_object_list\u001b[0m\u001b[0;34m.\u001b[0m\u001b[0mappend\u001b[0m\u001b[0;34m(\u001b[0m\u001b[0mvalue\u001b[0m\u001b[0;34m)\u001b[0m\u001b[0;34m\u001b[0m\u001b[0;34m\u001b[0m\u001b[0m\n",
      "\u001b[0;31mContainerAlreadyContains\u001b[0m: Container '<optlang.container.Container object at 0x7fdbb6e02e80>' already contains an object with name 'ATPase_cell_flux'."
     ]
    }
   ],
   "source": [
    "# tissue_model=rmodel.copy()\n",
    "\n",
    "#determine ratio of cytoplasmic volumes of each cell relative to cell with smallest cyt vol (per00)\n",
    "rootslice = pd.read_excel(orootsdir+\"model_constraints_data/cell_dimensions.xlsx\", index_col=0)\n",
    "\n",
    "a1 = rootslice.loc[\"_per00\", \"ratio_cytoplasm_dnut_vol\"]\n",
    "b1 = rootslice.loc[\"_end00\", \"ratio_cytoplasm_dnut_vol\"]\n",
    "c1 = rootslice.loc[\"_cor07\", \"ratio_cytoplasm_dnut_vol\"]\n",
    "d1 = rootslice.loc[\"_cor06\", \"ratio_cytoplasm_dnut_vol\"]\n",
    "e1 = rootslice.loc[\"_cor05\", \"ratio_cytoplasm_dnut_vol\"]\n",
    "f1 = rootslice.loc[\"_cor04\", \"ratio_cytoplasm_dnut_vol\"]\n",
    "g1 = rootslice.loc[\"_cor03\", \"ratio_cytoplasm_dnut_vol\"]\n",
    "h1 = rootslice.loc[\"_cor02\", \"ratio_cytoplasm_dnut_vol\"]\n",
    "i1 = rootslice.loc[\"_cor01\", \"ratio_cytoplasm_dnut_vol\"]\n",
    "j1 = rootslice.loc[\"_cor00\", \"ratio_cytoplasm_dnut_vol\"]\n",
    "k1 = rootslice.loc[\"_epi00\", \"ratio_cytoplasm_dnut_vol\"]\n",
    "\n",
    "#constraining ATPases of each cell in ratio given their cytoplasmic volumes\n",
    "a = tissue_model.reactions.get_by_id(\"ATPase_tx_per00\")\n",
    "b = tissue_model.reactions.get_by_id(\"ATPase_tx_end00\")\n",
    "c = tissue_model.reactions.get_by_id(\"ATPase_tx_cor07\")\n",
    "d = tissue_model.reactions.get_by_id(\"ATPase_tx_cor06\")\n",
    "e = tissue_model.reactions.get_by_id(\"ATPase_tx_cor05\")\n",
    "f = tissue_model.reactions.get_by_id(\"ATPase_tx_cor04\")\n",
    "g = tissue_model.reactions.get_by_id(\"ATPase_tx_cor03\")\n",
    "h = tissue_model.reactions.get_by_id(\"ATPase_tx_cor02\")\n",
    "i = tissue_model.reactions.get_by_id(\"ATPase_tx_cor01\")\n",
    "j = tissue_model.reactions.get_by_id(\"ATPase_tx_cor00\")\n",
    "k = tissue_model.reactions.get_by_id(\"ATPase_tx_epi00\")\n",
    "\n",
    "ATPase_cells_flux  = tissue_model.problem.Constraint(\n",
    "    (a.flux_expression) -  b1*(b.flux_expression) -  c1*(c.flux_expression) -  d1*(d.flux_expression) -  e1*(e.flux_expression) -  f1*(f.flux_expression)\n",
    "     -  g1*(g.flux_expression) -  h1*(h.flux_expression) -  i1*(i.flux_expression) -  j1*(j.flux_expression) -  k1*(k.flux_expression), \n",
    "    name = \"ATPase_cell_flux\",\n",
    "    lb = 0,\n",
    "    ub= 0)\n",
    "tissue_model.add_cons_vars(ATPase_cells_flux)"
   ]
  },
  {
   "cell_type": "code",
   "execution_count": 270,
   "metadata": {},
   "outputs": [
    {
     "name": "stdout",
     "output_type": "stream",
     "text": [
      "ATPase_tx_epi00 0 1000.0\n",
      "ATPase_tx_cor00 0 1000.0\n",
      "ATPase_tx_cor01 0 1000.0\n",
      "ATPase_tx_cor02 0 1000.0\n",
      "ATPase_tx_cor03 0 1000.0\n",
      "ATPase_tx_cor04 0 1000.0\n",
      "ATPase_tx_cor05 0 1000.0\n",
      "ATPase_tx_cor06 0 1000.0\n",
      "ATPase_tx_cor07 0 1000.0\n",
      "ATPase_tx_end00 0 1000.0\n",
      "ATPase_tx_per00 0.01 1000.0\n"
     ]
    }
   ],
   "source": [
    "for rxn in rmodel.reactions:\n",
    "    if 'ATPase_tx' in rxn.id:\n",
    "        print(rxn.id, rxn.lower_bound,rxn.upper_bound)\n",
    "        # rxn.lower_bound=0"
   ]
  },
  {
   "cell_type": "code",
   "execution_count": 282,
   "metadata": {},
   "outputs": [
    {
     "name": "stdout",
     "output_type": "stream",
     "text": [
      "-5312.180498398127 3PGAREARR_RXN_p_epi00\n",
      "    G3P_p_epi00 <=> 2_PG_p_epi00\n",
      "0.0 RIBULOSE_BISPHOSPHATE_CARBOXYLASE_RXN_p_epi00\n",
      "    CARBON_DIOXIDE_p_epi00 + D_RIBULOSE_15_P2_p_epi00 + WATER_p_epi00 --> 2.0 G3P_p_epi00 + 2.0 PROTON_p_epi00\n",
      "-0.0 3PGA_Pi_pc_epi00\n",
      "    G3P_p_epi00 + 0.7 Pi_c_epi00 + 0.3 aPi_c_epi00 <=> G3P_c_epi00 + 0.3 PROTON_c_epi00 + Pi_p_epi00\n",
      "4920.662441050422 RXN_961_p_epi00\n",
      "    D_RIBULOSE_15_P2_p_epi00 + OXYGEN_MOLECULE_p_epi00 --> CPD_67_p_epi00 + G3P_p_epi00 + 2.0 PROTON_p_epi00\n",
      "0.0 GLY3KIN_RXN_p_epi00\n",
      "    0.9 ATP_p_epi00 + GLYCERATE_p_epi00 + 0.1 aATP_p_epi00 --> 0.8 ADP_p_epi00 + G3P_p_epi00 + 0.9 PROTON_p_epi00 + 0.2 aADP_p_epi00\n",
      "2984.4382627365812 PHOSGLYPHOS_RXN_p_epi00\n",
      "    0.9 ATP_p_epi00 + G3P_p_epi00 + 0.1 PROTON_p_epi00 + 0.1 aATP_p_epi00 <=> 0.8 ADP_p_epi00 + DPG_p_epi00 + 0.2 aADP_p_epi00\n",
      "-2592.920205388878 GAP_3PGA_pc_epi00\n",
      "    G3P_c_epi00 + GAP_p_epi00 <=> G3P_p_epi00 + GAP_c_epi00\n",
      "0.0 DHAP_3PGA_pc_epi00\n",
      "    DIHYDROXY_ACETONE_PHOSPHATE_p_epi00 + G3P_c_epi00 <=> DIHYDROXY_ACETONE_PHOSPHATE_c_epi00 + G3P_p_epi00\n",
      "-0.0 PGLYCDEHYDROG_RXN_p_epi00\n",
      "    G3P_p_epi00 + NAD_p_epi00 <=> 3_P_HYDROXYPYRUVATE_p_epi00 + NADH_p_epi00 + PROTON_p_epi00\n"
     ]
    }
   ],
   "source": [
    "met = 'G3P_p_epi00'\n",
    "for rxn in rmodel.metabolites.get_by_id(met).reactions:\n",
    "    print(sol[rxn.id]*rxn.get_coefficient(met),rxn.id)\n",
    "    print('   ',rxn.reaction)"
   ]
  },
  {
   "cell_type": "code",
   "execution_count": 272,
   "metadata": {},
   "outputs": [
    {
     "name": "stdout",
     "output_type": "stream",
     "text": [
      "0.0038654551041774265 30.42072183029086 EX_X_GTP_ph_per00:  --> GTP_ph_per00\n"
     ]
    }
   ],
   "source": [
    "# sol=rmodel.optimize()\n",
    "print(sol['Phloem_import_reaction'],sol['CO2_tx_epi00'],rxn)"
   ]
  },
  {
   "cell_type": "code",
   "execution_count": 423,
   "metadata": {},
   "outputs": [],
   "source": [
    "resp_rate = 8.76E-14 #umol CO2 per sec per um3 of cytoplasm\n",
    "resp_rate = resp_rate*60*60 #umol/hour/um3 cytoplasm\n",
    "resp_rate = resp_rate*(1e-3) #mmol/hour/um3 cytoplasm\n",
    "#resp_rate = resp_rate*4 #mmol/4 hours/um3 cytoplasm\n",
    "resp_rate\n",
    "\n",
    "whole_model_vol = 6216571.895 #this value is the average volume of whole model across cell lengths\n",
    "gDW_per_tissue = whole_model_vol/2.541e+13 # 2.541e+13 is um3/gDW according to https://doi.org/10.1371/journal.pone.0239075\n",
    "def set_maintenance1(model, respiration_rate, cell_dimensions):\n",
    "    import pandas as pd\n",
    "    rootslice = pd.read_excel(cell_dimensions, index_col=0)\n",
    "    \n",
    "    whole_model_cytoplasm_dnut_vol = rootslice.loc[\"whole_model\", \"avg_cytoplasm_dnut_vol\"]\n",
    "    whole_model_tot_dnut_vol = rootslice.loc[\"whole_model\", \"avg_tot_dnut_vol\"]\n",
    "       \n",
    "    \n",
    "    #scale respiration rate to cytoplasmic volume of whole model\n",
    "    vol_adj_resp_rate = respiration_rate * -1 * whole_model_cytoplasm_dnut_vol #mmol/model; value is -ve because CO2 leaving the cell\n",
    "    vol_adj_resp_rate = vol_adj_resp_rate / gDW_per_tissue #mmol/gDW\n",
    "    vol_adj_resp_rate=-3.134302912\n",
    "    print(f\"the respiration rate adjusted for per gDW was {vol_adj_resp_rate}\")\n",
    "    \n",
    "    from cobra import io,flux_analysis\n",
    "    tempModel = model#.copy()\n",
    "    # solution = flux_analysis.parsimonious.pfba(tempModel)\n",
    "    CO2_tx_flux = 0\n",
    "    i = 0.5\n",
    "    while CO2_tx_flux > vol_adj_resp_rate:\n",
    "        i=i+0.01\n",
    "        print('set to : ',i)\n",
    "        tempModel.reactions.get_by_id(\"ATPase_tx_per00\").lower_bound = i\n",
    "        # tempModel.reactions.get_by_id(\"ATPase_tx_per00\").upper_bound = i\n",
    "        solution = flux_analysis.parsimonious.pfba(tempModel)\n",
    "        # try:\n",
    "        #     solution = flux_analysis.parsimonious.pfba(tempModel)\n",
    "        # except:\n",
    "        #     print('Broke at ',i)\n",
    "        #     break\n",
    "\n",
    "        CO2_tx_flux = solution[\"CO2_tx_epi00\"]\n",
    "        print(\"NGAM ATPase flux = \"+str(i))\n",
    "        print(\"CO2_tx_flux = \"+str(CO2_tx_flux))\n",
    "        print(\"---------------------------\")\n",
    "\n",
    "    print(\"Assumed maintenance cost, ATPase_tx =\")\n",
    "    print(solution[\"ATPase_tx_per00\"])\n",
    "    print(\"CO2 flux: \", solution[\"CO2_tx_epi00\"])\n",
    "\n",
    "    #set ATPase_tx value in model to value determined above\n",
    "    \n",
    "    model.reactions.get_by_id(\"ATPase_tx_per00\").lower_bound = float(solution[\"ATPase_tx_per00\"])\n",
    "    # model.reactions.get_by_id(\"ATPase_tx_per00\").upper_bound = tempModel.reactions.get_by_id(\"ATPase_tx_per00\").flux\n",
    "    for rxn in [x for x in model.reactions if \"ATPase_tx_\" in x.id]:\n",
    "        print(solution[rxn.id], rxn)\n"
   ]
  },
  {
   "cell_type": "code",
   "execution_count": 426,
   "metadata": {},
   "outputs": [
    {
     "name": "stdout",
     "output_type": "stream",
     "text": [
      "the respiration rate adjusted for per gDW was -3.134302912\n",
      "set to :  0.51\n",
      "NGAM ATPase flux = 0.51\n",
      "CO2_tx_flux = -2.9843787077192507\n",
      "---------------------------\n",
      "set to :  0.52\n",
      "NGAM ATPase flux = 0.52\n",
      "CO2_tx_flux = -3.0052971513091054\n",
      "---------------------------\n",
      "set to :  0.53\n",
      "NGAM ATPase flux = 0.53\n",
      "CO2_tx_flux = -3.0309402549132862\n",
      "---------------------------\n",
      "set to :  0.54\n",
      "NGAM ATPase flux = 0.54\n",
      "CO2_tx_flux = -3.0566214485447682\n",
      "---------------------------\n",
      "set to :  0.55\n",
      "NGAM ATPase flux = 0.55\n",
      "CO2_tx_flux = -3.0796990916095335\n",
      "---------------------------\n",
      "set to :  0.56\n",
      "NGAM ATPase flux = 0.56\n",
      "CO2_tx_flux = -3.1027362525237008\n",
      "---------------------------\n",
      "set to :  0.5700000000000001\n",
      "NGAM ATPase flux = 0.5700000000000001\n",
      "CO2_tx_flux = -3.124677269132242\n",
      "---------------------------\n",
      "set to :  0.5800000000000001\n",
      "NGAM ATPase flux = 0.5800000000000001\n",
      "CO2_tx_flux = -3.145353594739378\n",
      "---------------------------\n",
      "Assumed maintenance cost, ATPase_tx =\n",
      "0.5800000000000001\n",
      "CO2 flux:  -3.145353594739378\n",
      "1.1684057971014503 ATPase_tx_epi00: 0.65 ATP_c_epi00 + WATER_c_epi00 + 0.35 aATP_c_epi00 --> 0.5 ADP_c_epi00 + ATPase_NADPHoxidase_constraint_epi00 + 0.55 PROTON_c_epi00 + 0.7 Pi_c_epi00 + 0.5 aADP_c_epi00 + 0.3 aPi_c_epi00\n",
      "1.117971014492755 ATPase_tx_cor00: 0.65 ATP_c_cor00 + WATER_c_cor00 + 0.35 aATP_c_cor00 --> 0.5 ADP_c_cor00 + ATPase_NADPHoxidase_constraint_cor00 + 0.55 PROTON_c_cor00 + 0.7 Pi_c_cor00 + 0.5 aADP_c_cor00 + 0.3 aPi_c_cor00\n",
      "1.0755516772354348 ATPase_tx_cor01: 0.65 ATP_c_cor01 + WATER_c_cor01 + 0.35 aATP_c_cor01 --> 0.5 ADP_c_cor01 + ATPase_NADPHoxidase_constraint_cor01 + 0.55 PROTON_c_cor01 + 0.7 Pi_c_cor01 + 0.5 aADP_c_cor01 + 0.3 aPi_c_cor01\n",
      "1.0209531252236252 ATPase_tx_cor02: 0.65 ATP_c_cor02 + WATER_c_cor02 + 0.35 aATP_c_cor02 --> 0.5 ADP_c_cor02 + ATPase_NADPHoxidase_constraint_cor02 + 0.55 PROTON_c_cor02 + 0.7 Pi_c_cor02 + 0.5 aADP_c_cor02 + 0.3 aPi_c_cor02\n",
      "0.9593015639327414 ATPase_tx_cor03: 0.65 ATP_c_cor03 + WATER_c_cor03 + 0.35 aATP_c_cor03 --> 0.5 ADP_c_cor03 + ATPase_NADPHoxidase_constraint_cor03 + 0.55 PROTON_c_cor03 + 0.7 Pi_c_cor03 + 0.5 aADP_c_cor03 + 0.3 aPi_c_cor03\n",
      "0.8915861594198381 ATPase_tx_cor04: 0.65 ATP_c_cor04 + WATER_c_cor04 + 0.35 aATP_c_cor04 --> 0.5 ADP_c_cor04 + ATPase_NADPHoxidase_constraint_cor04 + 0.55 PROTON_c_cor04 + 0.7 Pi_c_cor04 + 0.5 aADP_c_cor04 + 0.3 aPi_c_cor04\n",
      "0.8146999686127878 ATPase_tx_cor05: 0.65 ATP_c_cor05 + WATER_c_cor05 + 0.35 aATP_c_cor05 --> 0.5 ADP_c_cor05 + ATPase_NADPHoxidase_constraint_cor05 + 0.55 PROTON_c_cor05 + 0.7 Pi_c_cor05 + 0.5 aADP_c_cor05 + 0.3 aPi_c_cor05\n",
      "0.7482098624246495 ATPase_tx_cor06: 0.65 ATP_c_cor06 + WATER_c_cor06 + 0.35 aATP_c_cor06 --> 0.5 ADP_c_cor06 + ATPase_NADPHoxidase_constraint_cor06 + 0.55 PROTON_c_cor06 + 0.7 Pi_c_cor06 + 0.5 aADP_c_cor06 + 0.3 aPi_c_cor06\n",
      "0.680869565217391 ATPase_tx_cor07: 0.65 ATP_c_cor07 + WATER_c_cor07 + 0.35 aATP_c_cor07 --> 0.5 ADP_c_cor07 + ATPase_NADPHoxidase_constraint_cor07 + 0.55 PROTON_c_cor07 + 0.7 Pi_c_cor07 + 0.5 aADP_c_cor07 + 0.3 aPi_c_cor07\n",
      "0.6304347826086955 ATPase_tx_end00: 0.65 ATP_c_end00 + WATER_c_end00 + 0.35 aATP_c_end00 --> 0.5 ADP_c_end00 + ATPase_NADPHoxidase_constraint_end00 + 0.55 PROTON_c_end00 + 0.7 Pi_c_end00 + 0.5 aADP_c_end00 + 0.3 aPi_c_end00\n",
      "0.5800000000000001 ATPase_tx_per00: 0.65 ATP_c_per00 + WATER_c_per00 + 0.35 aATP_c_per00 --> 0.5 ADP_c_per00 + ATPase_NADPHoxidase_constraint_per00 + 0.55 PROTON_c_per00 + 0.7 Pi_c_per00 + 0.5 aADP_c_per00 + 0.3 aPi_c_per00\n"
     ]
    }
   ],
   "source": [
    "set_maintenance1(tissue_model, 3.1536000000000003e-13, orootsdir+\"model_constraints_data/cell_dimensions.xlsx\")"
   ]
  },
  {
   "cell_type": "code",
   "execution_count": 427,
   "metadata": {},
   "outputs": [],
   "source": [
    "solution = flux_analysis.parsimonious.pfba(tissue_model)"
   ]
  },
  {
   "cell_type": "code",
   "execution_count": 167,
   "metadata": {},
   "outputs": [],
   "source": [
    "rmodel.reactions.ATPase_tx_per00.lower_bound=float(rmodel.reactions.ATPase_tx_per00.lower_bound)"
   ]
  },
  {
   "cell_type": "code",
   "execution_count": 166,
   "metadata": {},
   "outputs": [
    {
     "name": "stdout",
     "output_type": "stream",
     "text": [
      "ATPase_tx_per00 <class 'numpy.float64'> <class 'float'>\n"
     ]
    }
   ],
   "source": [
    "for rxn in rmodel.reactions:\n",
    "    if type(rxn.upper_bound) != float or type(rxn.lower_bound) != float:\n",
    "        print(rxn.id,type(rxn.lower_bound),type(rxn.upper_bound))"
   ]
  },
  {
   "cell_type": "code",
   "execution_count": 168,
   "metadata": {},
   "outputs": [],
   "source": [
    "io.write_sbml_model(rmodel,'roots_unfixed_ph.xml')"
   ]
  },
  {
   "cell_type": "code",
   "execution_count": 409,
   "metadata": {},
   "outputs": [
    {
     "name": "stdout",
     "output_type": "stream",
     "text": [
      "Read LP format model from file /var/folders/rx/sg79_yds24z7clp5pp_fnpnh0000gp/T/tmp7hrcxy3i.lp\n",
      "Reading time = 0.16 seconds\n",
      ": 10047 rows, 26532 columns, 115516 nonzeros\n"
     ]
    }
   ],
   "source": [
    "tissue_model=rmodel.copy()"
   ]
  },
  {
   "cell_type": "code",
   "execution_count": 410,
   "metadata": {},
   "outputs": [],
   "source": [
    "#create dict for objective\n",
    "photon_obj = {tissue_model.reactions.Photon_ep_epi00: 1}\n",
    "\n",
    "#exclude sympastic transfer reactions and apoplast exchange rxns from pFBA minimisation\n",
    "exclude_from_pFBA = {}\n",
    "for rxn in tissue_model.reactions:\n",
    "    if \"Transfer\" in rxn.id:\n",
    "        exclude_from_pFBA[rxn.id] = 0 #therefore these fluxes won't be minimised\n",
    "    elif \"apoplast_exchange\" in rxn.id:\n",
    "        exclude_from_pFBA[rxn.id] = 0 #therefore these fluxes won't be minimised\n",
    "#exclude_from_pFBA\n",
    "\n",
    "Dcoeffs = {}\n",
    "sum_var = tissue_model.problem.Variable('sumvar')\n",
    "tissue_model.add_cons_vars(sum_var)\n",
    "for ii in [rxn.id for rxn in tissue_model.reactions if rxn.id not in list(exclude_from_pFBA.keys())]:\n",
    "    Dcoeffs[tissue_model.reactions.get_by_id(ii).forward_variable]=1\n",
    "    Dcoeffs[tissue_model.reactions.get_by_id(ii).reverse_variable]=1\n",
    "Dcoeffs[sum_var]=-1\n",
    "Dcons = tissue_model.problem.Constraint(0,\n",
    "    lb=0,\n",
    "    ub=0)\n",
    "tissue_model.add_cons_vars([Dcons])\n",
    "tissue_model.solver.update()\n",
    "Dcons.set_linear_coefficients(coefficients=Dcoeffs)\n",
    "regrexobj=tissue_model.problem.Objective(sum_var,\n",
    "        direction='min')\n",
    "solution = flux_analysis.parsimonious.pfba(tissue_model)"
   ]
  },
  {
   "cell_type": "markdown",
   "metadata": {},
   "source": [
    "t"
   ]
  },
  {
   "cell_type": "code",
   "execution_count": null,
   "metadata": {},
   "outputs": [],
   "source": [
    "import matplotlib.pyplot as plt\n",
    "import numpy as np\n",
    "import pandas as pd\n",
    "# from root_study_functions import *\n",
    "import sys, importlib\n",
    "importlib.reload(sys.modules['root_analysis_functions'])\n",
    "from root_analysis_functions import *\n",
    "\n",
    "#generate ATP and NAD energy budgets\n",
    "#find colour hex codes here: https://www.colorhexa.com/color-names\n",
    "nad_coloursdict = {\n",
    "    'MALATE_DEH_RXN_m_': '#5C6BC0',\n",
    "    '2OXOGLUTARATEDEH_RXN_m_':'#8D6E63' ,\n",
    "    'ISOCITRATE_DEHYDROGENASE_NAD_RXN_m_': '#AB47BC',\n",
    "    'PYRUVDEH_RXN_m_': '#2E7D32',\n",
    "    'GAPOXNPHOSPHN_RXN_c_': '#EF5350',\n",
    "    'MALATE_DEH_RXN_c_': '#FF7043',\n",
    "    'NADH_DEHYDROG_A_RXN_mi_': '#26C6DA',\n",
    "    'GLC': '#9CCC65',\n",
    "    'Other': '#BDBDBD',\n",
    "    'ISOCITDEH_RXN_m_': '#e9d66b',\n",
    "    'MALATE_DEH_RXN_p_': '#fdee00',\n",
    "    '6PGLUCONDEHYDROG_RXN_p_': '#f4c2c2',}\n",
    "\n",
    "atp_coloursdict = {\n",
    "    'Mitochondrial_ATP_Synthase_m_': '#5C6BC0',\n",
    "    'PHOSGLYPHOS_RXN_c_':'#8D6E63' ,\n",
    "    'PEPDEPHOS_RXN_p_': '#AB47BC',\n",
    "    'PHOSPHORIBULOSEKINASE_RXN_p_': '#2E7D32',\n",
    "    'PEPDEPHOS_RXN_c_': '#EF5350',\n",
    "    'PHOSGLYPHOS_RXN_c_': '#FF7043',\n",
    "    'GLUC1PADENYLTRANS_RXN_c_': '#26C6DA',\n",
    "    'ACETYL_COA_CARBOXYLTRANSFER_RXN_p_': '#9CCC65',\n",
    "    'UDPKIN_RXN_c_': '#BDBDBD',\n",
    "    'GDPKIN_RXN_c_': '#fbceb1',\n",
    "    'FRUCTOKINASE_RXN_c_': '#cd9575',\n",
    "    'PROTON_ATPase_c_': '#000000',\n",
    "    'Others-pos': '#000000',}\n",
    "\n",
    "total_atp_dict,temp = generateATPbudget(tissue_model, solution.fluxes, outfile=\"atp_fluxescor00.csv\",\n",
    "    percentage=False, save_plot_to=f\"ATP&NAD_budgets/ATPbudget_\",colourDict=atp_coloursdict)\n",
    "    \n",
    "total_nad_dict,temp = generateNADHNADPHbudget(tissue_model,solution.fluxes,outfile=\"nadfluxescor00.csv\",\n",
    "    show_plot=True,percentage=False,save_plot_to=f\"ATP&NAD_budgets/NADbudget_\",colourDict=nad_coloursdict)\n",
    "\n",
    "#convert nad and atp dictionaries to dataframes\n",
    "nad_df = pd.DataFrame.from_dict(total_nad_dict, orient='index')\n",
    "atp_df = pd.DataFrame.from_dict(total_atp_dict, orient='index')\n",
    "\n",
    "#import rootslice data\n",
    "rootslice = pd.read_excel(orootsdir+\"model_constraints_data/cell_dimensions.xlsx\", index_col=0)\n",
    "rootslice = rootslice[:11]\n",
    "rootslice\n",
    "\n",
    "#create chart\n",
    "#v useful guide to dataframe.plot() https://pandas.pydata.org/pandas-docs/stable/reference/api/pandas.DataFrame.plot.html\n",
    "rootslice[['avg_tot_dnut_vol','avg_vac_dnut_vol','avg_pm_dnut_vol', \"avg_cellwall_dnut_vol\", \"avg_cytoplasm_dnut_vol\"]].plot(kind='bar', width = 1, figsize=(12,6), colormap=\"viridis\")\n",
    "#rootslice[['avg_pm_dnut_vol']].plot(kind='bar', width = 1, figsize=(12,6), colormap=\"viridis\")\n",
    "\n",
    "plt.ylabel(\"volume (μm3)\")\n",
    "nad_df[0].plot(secondary_y=True, color='y', label=\"nad\")\n",
    "atp_df[0].plot(secondary_y=True,color='g', label=\"atp\")\n",
    "plt.legend(loc=\"center right\")\n",
    "plt.ylabel(\"mmol/gDW\")\n",
    "plt.title(\"Plot of total doughnut volume vs NAD and ATP demand\")\n",
    "plt.savefig('vol_v_NAD_ATP.png')"
   ]
  },
  {
   "cell_type": "code",
   "execution_count": 203,
   "metadata": {},
   "outputs": [
    {
     "name": "stdout",
     "output_type": "stream",
     "text": [
      "['Ca_tx_epi00', 'Photon_tx_epi00', 'H_tx_epi00', 'Sucrose_tx_epi00', 'H2O_tx_epi00', 'CO2_tx_epi00', 'O2_tx_epi00', 'Pi_tx_epi00', 'Biomass_tx_epi00', 'Mg_tx_epi00', 'Nitrate_tx_epi00', 'SO4_tx_epi00', 'NH4_tx_epi00', 'K_tx_epi00', 'GLC_tx_epi00', 'Cl_tx_epi00', 'L_LACTATE_tx_epi00', 'CO2_tx_cor00', 'O2_tx_cor00', 'Biomass_tx_cor00', 'CO2_tx_cor01', 'O2_tx_cor01', 'Biomass_tx_cor01', 'CO2_tx_cor02', 'O2_tx_cor02', 'Biomass_tx_cor02', 'CO2_tx_cor03', 'O2_tx_cor03', 'Biomass_tx_cor03', 'CO2_tx_cor04', 'O2_tx_cor04', 'Biomass_tx_cor04', 'CO2_tx_cor05', 'O2_tx_cor05', 'Biomass_tx_cor05', 'CO2_tx_cor06', 'O2_tx_cor06', 'Biomass_tx_cor06', 'CO2_tx_cor07', 'O2_tx_cor07', 'Biomass_tx_cor07', 'CO2_tx_end00', 'O2_tx_end00', 'Biomass_tx_end00', 'CO2_tx_per00', 'O2_tx_per00', 'Biomass_tx_per00', 'CYS_ph_c_per00', 'PHE_ph_c_per00', 'LEU_ph_c_per00', '4_AMINO_BUTYRATE_ph_c_per00', 'FRU_ph_c_per00', 'GLT_ph_c_per00', 'L_ALPHA_ALANINE_ph_c_per00', 'PRO_ph_c_per00', 'SUCROSE_ph_c_per00', 'HIS_ph_c_per00', 'TRP_ph_c_per00', 'ILE_ph_c_per00', 'ARG_ph_c_per00', 'GLC_ph_c_per00', 'GLY_ph_c_per00', 'L_ASPARTATE_ph_c_per00', 'SER_ph_c_per00', 'MET_ph_c_per00', 'TYR_ph_c_per00', 'VAL_ph_c_per00', 'ASN_ph_c_per00', 'GLN_ph_c_per00', 'LYS_ph_c_per00', 'THR_ph_c_per00'] [0.013048664874297487, 0.0, 0.0, 0.0, -2.1982252621608804, -3.1462121590661845, 2.374473619320553, 0.06357445515547926, 0.00230429728520733, 0.0, 1.1258879399177, 0.0, 0.0, 0.0, 0.0, 0.0, 0.5778407402209255, 0.0, 0.0, 0.00220483121534226, 0.0, 0.0, 0.00210541655482405, 0.0, 0.0, 0.00198389697678943, 0.0, 0.0, 0.00185057675039515, 0.0, 0.0, 0.00171994780330843, 0.0, 0.0, 0.00158310970875116, 0.0, 0.0, 0.00146463760335586, 0.0, 0.0, 0.00134279194317837, 0.0, 0.0, 0.0012433258733133, 0.0, 0.0, 0.00114385980344824, 0.0, 0.018521201483586786, 0.00010117663055402748, 0.0, 0.0, 0.0, 0.0, 0.008849150444356801, 2.7080966970029574, 0.0031711696127223244, 0.0014970809436181383, 0.003551804376543682, 0.44273849496193873, 0.47469712979041895, 0.008534770952687808, 0.0, 0.013835418431975458, 0.007230960435988938, 0.017871254176689007, 0.016782306267199964, 0.01661876142284755, 0.06006333089098171, 0.006817600754330508, 0.007084333292204794]\n"
     ]
    }
   ],
   "source": [
    "print(exchange_rxns,[solution[x] for x in exchange_rxns])"
   ]
  },
  {
   "cell_type": "code",
   "execution_count": 311,
   "metadata": {},
   "outputs": [
    {
     "name": "stderr",
     "output_type": "stream",
     "text": [
      "No handles with labels found to put in legend.\n"
     ]
    },
    {
     "data": {
      "image/png": "[encoded data removed]",
      "text/plain": [
       "<Figure size 432x288 with 1 Axes>"
      ]
     },
     "metadata": {
      "needs_background": "light"
     },
     "output_type": "display_data"
    }
   ],
   "source": [
    "# exchange_rxns=[]\n",
    "# for rxn in tissue_model.reactions:\n",
    "#     if ('_tx' in rxn.id or '_ph_c' in rxn.id)and not 'NADPH' in rxn.id and not 'ATP' in rxn.id:\n",
    "#         exchange_rxns+=[rxn.id]\n",
    "# exrxn_dicts={}\n",
    "# ex_types   = set(['_'.join(rxn.split('_')[:-1]) for rxn in exchange_rxns])\n",
    "# cell_types = set([rxn.split('_')[-1] for rxn in exchange_rxns if abs(solution[rxn])>1e-4])\n",
    "# cell_types=['per00','epi00']#\n",
    "# for ex in ex_types:\n",
    "#         type_dict={}\n",
    "#         for cell in cell_types:\n",
    "#             rxn=ex+'_'+cell\n",
    "#             if rxn in exchange_rxns:\n",
    "#                 type_dict[cell]=solution[rxn]\n",
    "#             # else:\n",
    "#             #     type_dict[cell]=0\n",
    "#         exrxn_dicts[ex] = type_dict\n",
    "# df=pd.DataFrame.from_dict(exrxn_dicts)\n",
    "\n",
    "# ph_ratios['Oshima1990'].plot(kind='bar', width = 1, figsize=(12,6), colormap=\"viridis\")\n",
    "plt.bar(range(len(ph_ratios['met_id'])),ph_ratios['Oshima1990'])\n",
    "plt.xticks(range(len(ph_ratios['met_id'])), ph_ratios['met_id'],rotation='vertical')\n",
    "# rootslice[['avg_tot_dnut_vol','avg_vac_dnut_vol','avg_pm_dnut_vol', \"avg_cellwall_dnut_vol\", \"avg_cytoplasm_dnut_vol\"]].plot(kind='bar', width = 1, figsize=(12,6), colormap=\"viridis\")\n",
    "# plt.ylabel(\"volume (μm3)\")\n",
    "# for key in list(exrxn_dicts.keys()):\n",
    "#     df=pd.DataFrame.from_dict(exrxn_dicts[key], orient='index')\n",
    "#     df[0].plot(secondary_y=True, label=key)\n",
    "plt.legend(loc=\"center left\")\n",
    "# plt.ylabel(\"mmol/gDW\")\n",
    "plt.title(\"Phloem metabolite ratios\")\n",
    "plt.savefig('Oshima1990.png', bbox_inches='tight')"
   ]
  },
  {
   "cell_type": "code",
   "execution_count": 474,
   "metadata": {},
   "outputs": [],
   "source": [
    "for rxn in tissue_model.reactions:\n",
    "    if 'L_LACTATE' in rxn.id  and solution[rxn.id]!=0:\n",
    "        print(solution[rxn.id],rxn.id)\n",
    "        print('   ',rxn.reaction)"
   ]
  },
  {
   "cell_type": "code",
   "execution_count": 476,
   "metadata": {},
   "outputs": [
    {
     "data": {
      "image/png": "[encoded data removed]",
      "text/plain": [
       "<Figure size 432x288 with 2 Axes>"
      ]
     },
     "metadata": {
      "needs_background": "light"
     },
     "output_type": "display_data"
    }
   ],
   "source": [
    "from matplotlib.ticker import FormatStrFormatter\n",
    "from datetime import datetime, date, time\n",
    "# solution['MET_ph_c_per00']\n",
    "plot_apo_transport2(rmodel,sol,ex_type='EX_X',splitnum=2,cell_type='per00',ybreak=0.015,savebool='ph_suc_v_aa_min_C')"
   ]
  },
  {
   "cell_type": "code",
   "execution_count": 411,
   "metadata": {},
   "outputs": [
    {
     "data": {
      "image/png": "[encoded data removed]",
      "text/plain": [
       "<Figure size 432x288 with 2 Axes>"
      ]
     },
     "metadata": {
      "needs_background": "light"
     },
     "output_type": "display_data"
    }
   ],
   "source": [
    "from matplotlib.ticker import FormatStrFormatter\n",
    "from datetime import datetime, date, time\n",
    "# solution['MET_ph_c_per00']\n",
    "plot_apo_transport(rmodel,sol,ex_type='_ec_',splitnum=2,cell_type='epi00',ybreak=0.015,savebool='ph_suc_v_mets')"
   ]
  },
  {
   "cell_type": "code",
   "execution_count": 343,
   "metadata": {},
   "outputs": [],
   "source": [
    "def plot_apo_transport(stem_model,psol,ex_type='_ec_',splitnum=3,cell_type='CC_l',thresh=5e-5,yscale=None,fva_sol_min=None,fva_sol_max=None,rangeplot=None,exclude_rxns=[],ybreak=None,savebool=None,ymax=0):\n",
    "    if not rangeplot:\n",
    "        labels=[rxn.id for rxn in stem_model.reactions if ((cell_type in rxn.id)and(ex_type in rxn.id)and abs(psol[rxn.id])>thresh)and not any([x in rxn.id for x in exclude_rxns])]\n",
    "    else:\n",
    "        labels=[rxn for rxn in list(fva_sol_min.keys()) if ((cell_type in rxn.id)and(ex_type in rxn.id)and (abs(fva_sol_min[rxn])>thresh or abs(fva_sol_max[rxn])>thresh))and not any([x in rxn for x in exclude_rxns])]\n",
    "    labels = sorted(labels, key=lambda x: x[-1:-5:-1],reverse=True)\n",
    "    data1=[psol[rxn] for rxn in labels]\n",
    "    if rangeplot:\n",
    "        datamax = [round(fva_sol_max[rxn]-psol[rxn],4) for rxn in labels]\n",
    "        datamin = [round(psol[rxn]-fva_sol_min[rxn],4) for rxn in labels]\n",
    "#         print(labels)\n",
    "#         print(data1)\n",
    "#         print(datamax)\n",
    "#         print(datamin)\n",
    "    labels = ['_'.join(x.split('_')[:-splitnum]) for x in labels]\n",
    "    width=0.6\n",
    "    \n",
    "    if ybreak:\n",
    "        fig,(ax,ax2) = plt.subplots(2,1, sharex=True)\n",
    "    plt.xticks(range(len(data1)), labels,rotation='vertical')\n",
    "    if ybreak:\n",
    "        ax.bar(np.arange(len(data1)), data1, width=width)\n",
    "        ax2.bar(np.arange(len(data1)), data1, width=width)\n",
    "        ax2.set_ylim(0,ybreak)\n",
    "        min2 = min([x for x in data1 if x>ybreak])\n",
    "        max2 = max(1.05*max(data1),ymax)\n",
    "        ax.set_ylim(0.95*min2,max2)\n",
    "        ax2.spines['top'].set_visible(False)\n",
    "        ax.spines['bottom'].set_visible(False)\n",
    "        ax.xaxis.tick_top()\n",
    "        ax.tick_params(labeltop=False)\n",
    "        ax2.xaxis.tick_bottom()\n",
    "        \n",
    "        d = .5  # proportion of vertical to horizontal extent of the slanted line\n",
    "        kwargs = dict(marker=[(-1, -d), (1, d)], markersize=12,\n",
    "                      linestyle=\"none\", color='k', mec='k', mew=1, clip_on=False)\n",
    "        ax.plot([0, 1], [0, 0], transform=ax.transAxes, **kwargs)\n",
    "        ax2.plot([0, 1], [1, 1], transform=ax2.transAxes, **kwargs)\n",
    "        ax.yaxis.set_major_formatter(FormatStrFormatter('%.3f'))\n",
    "        ax2.yaxis.set_major_formatter(FormatStrFormatter('%.3f'))\n",
    "        if rangeplot:\n",
    "            ax.errorbar(np.arange(len(data1)),\n",
    "                data1,\n",
    "                yerr=[datamin,datamax], \n",
    "                fmt=\"o\", markersize=1,color=\"grey\",label='_nolegend_',capsize=5)\n",
    "            ax2.errorbar(np.arange(len(data1)),\n",
    "                data1,\n",
    "                yerr=[datamin,datamax], \n",
    "                fmt=\"o\", markersize=1,color=\"grey\",label='_nolegend_',capsize=5)\n",
    "            print(data1)\n",
    "            print(datamin)\n",
    "            print(datamax)\n",
    "    else:\n",
    "        plt.bar(np.arange(len(data1)), data1, width=width)\n",
    "        plt.ylim(0,max(ymax,max(data1)))\n",
    "        if rangeplot:\n",
    "            plt.errorbar(np.arange(len(data1)),\n",
    "                data1,\n",
    "                yerr=[datamin,datamax], \n",
    "                fmt=\"o\", markersize=1, color=\"grey\",label='_nolegend_',capsize=5)\n",
    "    # plt.bar(np.arange(len(data2))+ width, data2, width=width)\n",
    "#     plt.legend(['apo ->'+cell_type])\n",
    "    plt.ylabel(r'flux ($\\mu$M/m$^2$/s)')\n",
    "    \n",
    "    if yscale:\n",
    "        if not rangeplot and not any([x<-5e-5 for x in data1]):\n",
    "            plt.ylim(0,min(100,yscale))\n",
    "        else:\n",
    "            plt.ylim(max(-80,-yscale),min(100,yscale))\n",
    "    if savebool:\n",
    "        now = datetime.now().strftime('%Y_%m_%d')\n",
    "        plt.savefig('Figures/'+'apo_transport_'+savebool+now+'.png', bbox_inches='tight')\n",
    "    plt.show()"
   ]
  },
  {
   "cell_type": "code",
   "execution_count": 85,
   "metadata": {},
   "outputs": [
    {
     "name": "stdout",
     "output_type": "stream",
     "text": [
      "0\n"
     ]
    }
   ],
   "source": [
    "temp3=[cons for cons in temp2 if 'NADPHoxm' in str(cons.expression) and 'NADPHoxc' in str(cons.expression)]\n",
    "print(len(temp3))"
   ]
  },
  {
   "cell_type": "code",
   "execution_count": 84,
   "metadata": {},
   "outputs": [
    {
     "data": {
      "text/latex": [
       "$\\displaystyle - 1.0 \\cdot 3_{HYDROXYISOBUTYRYL COA HYDROLASE RXN m epi00} + 1.0 \\cdot 3_{HYDROXYISOBUTYRYL COA HYDROLASE RXN m epi00 reverse e3075} + 1.0 ACONITATEDEHYDR_{RXN m epi00} - 1.0 ACONITATEDEHYDR_{RXN m epi00 reverse 9ad7a} - 1.0 ACONITATEHYDR_{RXN m epi00} + 1.0 ACONITATEHYDR_{RXN m epi00 reverse 15a47} - 1.0 ARGINASE_{RXN m epi00} + 1.0 ARGINASE_{RXN m epi00 reverse 070a5} - 1.0 CITSYN_{RXN m epi00} + 1.0 CITSYN_{RXN m epi00 reverse 476de} + 2.0 CYTOCHROME_{C OXIDASE RXN mc epi00} - 2.0 CYTOCHROME_{C OXIDASE RXN mc epi00 reverse c7295} + 2.0 CYTOCHROME_{C OXIDASE RXN mi epi00} - 2.0 CYTOCHROME_{C OXIDASE RXN mi epi00 reverse 1e3f4} - 1.0 FUMHYDR_{RXN m epi00} + 1.0 FUMHYDR_{RXN m epi00 reverse d148d} - 1.0 GLUTAMATE_{DEHYDROGENASE RXN m epi00} + 1.0 GLUTAMATE_{DEHYDROGENASE RXN m epi00 reverse 8ac00} + 1.0 GLYOHMETRANS_{RXN m epi00} - 1.0 GLYOHMETRANS_{RXN m epi00 reverse 59075} - 1.0 H2O_{mc epi00} + 1.0 H2O_{mc epi00 reverse e4097} - 1.0 \\hat{INORGPYROPHOSP}_{RXN m epi00} + 1.0 \\hat{INORGPYROPHOSP}_{RXN m epi00 reverse 3c103} + 2.0 L_{ASCORBATE PEROXIDASE RXN m epi00} - 2.0 L_{ASCORBATE PEROXIDASE RXN m epi00 reverse b8cf9} - 1.0 METHYLACYLYLCOA_{HYDROXY RXN m epi00} + 1.0 METHYLACYLYLCOA_{HYDROXY RXN m epi00 reverse 6cc26} - 1.0 METHYLGLUTACONYL_{COA HYDRATASE RXN m epi00} + 1.0 METHYLGLUTACONYL_{COA HYDRATASE RXN m epi00 reverse 79d33} + 3.0 Mitochondrial_{ATP Synthase m epi00} - 3.0 Mitochondrial_{ATP Synthase m epi00 reverse c9361} + 1.0 NADPHoxm_{tx epi00} - 1.0 NADPHoxm_{tx epi00 reverse 1ad7d} - 1.0 PGPPHOSPHA_{RXN m epi00} + 1.0 PGPPHOSPHA_{RXN m epi00 reverse d54ff} - 2.0 PYRROLINECARBDEHYDROG_{RXN NADP m epi00} + 2.0 PYRROLINECARBDEHYDROG_{RXN NADP m epi00 reverse d2389} - 1.0 RXN_{0 5224 m epi00} + 1.0 RXN_{0 5224 m epi00 reverse 06351} - 1.0 RXN_{66 3 m epi00} + 1.0 RXN_{66 3 m epi00 reverse 3fcd6} - 1.0 RXN_{11213 m epi00} + 1.0 RXN_{11213 m epi00 reverse d94dc} - 1.0 RXN_{13161 m epi00} + 1.0 RXN_{13161 m epi00 reverse 76528} + 2.0 RXN_{6884 m epi00} - 2.0 RXN_{6884 m epi00 reverse ec033} + 1.0 SPONTPRO_{RXN m epi00} - 1.0 SPONTPRO_{RXN m epi00 reverse cc43c} - 1.0 SUCCINATE_{SEMIALDEHYDE DEHYDROGENASE RXN m epi00} + 1.0 SUCCINATE_{SEMIALDEHYDE DEHYDROGENASE RXN m epi00 reverse 48aab} - 1.0 SUCCINYL_{COA HYDROLASE RXN m epi00} + 1.0 SUCCINYL_{COA HYDROLASE RXN m epi00 reverse c960f} - 1.0 SULFITE_{OXIDASE RXN m epi00} + 1.0 SULFITE_{OXIDASE RXN m epi00 reverse feab3} - 1.0 TIGLYLCOA_{HYDROXY RXN m epi00} + 1.0 TIGLYLCOA_{HYDROXY RXN m epi00 reverse 96a38}$"
      ],
      "text/plain": [
       "-1.0*3_HYDROXYISOBUTYRYL_COA_HYDROLASE_RXN_m_epi00 + 1.0*3_HYDROXYISOBUTYRYL_COA_HYDROLASE_RXN_m_epi00_reverse_e3075 + 1.0*ACONITATEDEHYDR_RXN_m_epi00 - 1.0*ACONITATEDEHYDR_RXN_m_epi00_reverse_9ad7a - 1.0*ACONITATEHYDR_RXN_m_epi00 + 1.0*ACONITATEHYDR_RXN_m_epi00_reverse_15a47 - 1.0*ARGINASE_RXN_m_epi00 + 1.0*ARGINASE_RXN_m_epi00_reverse_070a5 - 1.0*CITSYN_RXN_m_epi00 + 1.0*CITSYN_RXN_m_epi00_reverse_476de + 2.0*CYTOCHROME_C_OXIDASE_RXN_mc_epi00 - 2.0*CYTOCHROME_C_OXIDASE_RXN_mc_epi00_reverse_c7295 + 2.0*CYTOCHROME_C_OXIDASE_RXN_mi_epi00 - 2.0*CYTOCHROME_C_OXIDASE_RXN_mi_epi00_reverse_1e3f4 - 1.0*FUMHYDR_RXN_m_epi00 + 1.0*FUMHYDR_RXN_m_epi00_reverse_d148d - 1.0*GLUTAMATE_DEHYDROGENASE_RXN_m_epi00 + 1.0*GLUTAMATE_DEHYDROGENASE_RXN_m_epi00_reverse_8ac00 + 1.0*GLYOHMETRANS_RXN_m_epi00 - 1.0*GLYOHMETRANS_RXN_m_epi00_reverse_59075 - 1.0*H2O_mc_epi00 + 1.0*H2O_mc_epi00_reverse_e4097 - 1.0*INORGPYROPHOSPHAT_RXN_m_epi00 + 1.0*INORGPYROPHOSPHAT_RXN_m_epi00_reverse_3c103 + 2.0*L_ASCORBATE_PEROXIDASE_RXN_m_epi00 - 2.0*L_ASCORBATE_PEROXIDASE_RXN_m_epi00_reverse_b8cf9 - 1.0*METHYLACYLYLCOA_HYDROXY_RXN_m_epi00 + 1.0*METHYLACYLYLCOA_HYDROXY_RXN_m_epi00_reverse_6cc26 - 1.0*METHYLGLUTACONYL_COA_HYDRATASE_RXN_m_epi00 + 1.0*METHYLGLUTACONYL_COA_HYDRATASE_RXN_m_epi00_reverse_79d33 + 3.0*Mitochondrial_ATP_Synthase_m_epi00 - 3.0*Mitochondrial_ATP_Synthase_m_epi00_reverse_c9361 + 1.0*NADPHoxm_tx_epi00 - 1.0*NADPHoxm_tx_epi00_reverse_1ad7d - 1.0*PGPPHOSPHA_RXN_m_epi00 + 1.0*PGPPHOSPHA_RXN_m_epi00_reverse_d54ff - 2.0*PYRROLINECARBDEHYDROG_RXN_NADP_m_epi00 + 2.0*PYRROLINECARBDEHYDROG_RXN_NADP_m_epi00_reverse_d2389 - 1.0*RXN0_5224_m_epi00 + 1.0*RXN0_5224_m_epi00_reverse_06351 - 1.0*RXN66_3_m_epi00 + 1.0*RXN66_3_m_epi00_reverse_3fcd6 - 1.0*RXN_11213_m_epi00 + 1.0*RXN_11213_m_epi00_reverse_d94dc - 1.0*RXN_13161_m_epi00 + 1.0*RXN_13161_m_epi00_reverse_76528 + 2.0*RXN_6884_m_epi00 - 2.0*RXN_6884_m_epi00_reverse_ec033 + 1.0*SPONTPRO_RXN_m_epi00 - 1.0*SPONTPRO_RXN_m_epi00_reverse_cc43c - 1.0*SUCCINATE_SEMIALDEHYDE_DEHYDROGENASE_RXN_m_epi00 + 1.0*SUCCINATE_SEMIALDEHYDE_DEHYDROGENASE_RXN_m_epi00_reverse_48aab - 1.0*SUCCINYL_COA_HYDROLASE_RXN_m_epi00 + 1.0*SUCCINYL_COA_HYDROLASE_RXN_m_epi00_reverse_c960f - 1.0*SULFITE_OXIDASE_RXN_m_epi00 + 1.0*SULFITE_OXIDASE_RXN_m_epi00_reverse_feab3 - 1.0*TIGLYLCOA_HYDROXY_RXN_m_epi00 + 1.0*TIGLYLCOA_HYDROXY_RXN_m_epi00_reverse_96a38"
      ]
     },
     "execution_count": 84,
     "metadata": {},
     "output_type": "execute_result"
    }
   ],
   "source": [
    "temp2[5].expression"
   ]
  },
  {
   "cell_type": "code",
   "execution_count": 66,
   "metadata": {},
   "outputs": [
    {
     "ename": "ModuleNotFoundError",
     "evalue": "No module named 'root_study_functions'",
     "output_type": "error",
     "traceback": [
      "\u001b[0;31m---------------------------------------------------------------------------\u001b[0m",
      "\u001b[0;31mModuleNotFoundError\u001b[0m                       Traceback (most recent call last)",
      "\u001b[0;32m/var/folders/rx/sg79_yds24z7clp5pp_fnpnh0000gp/T/ipykernel_4280/63944453.py\u001b[0m in \u001b[0;36m<module>\u001b[0;34m\u001b[0m\n\u001b[1;32m      2\u001b[0m \u001b[0;32mfrom\u001b[0m \u001b[0msys\u001b[0m \u001b[0;32mimport\u001b[0m \u001b[0mpath\u001b[0m\u001b[0;34m\u001b[0m\u001b[0;34m\u001b[0m\u001b[0m\n\u001b[1;32m      3\u001b[0m \u001b[0mpath\u001b[0m\u001b[0;34m.\u001b[0m\u001b[0mappend\u001b[0m\u001b[0;34m(\u001b[0m\u001b[0;34m'/roots-model/'\u001b[0m\u001b[0;34m)\u001b[0m\u001b[0;34m\u001b[0m\u001b[0;34m\u001b[0m\u001b[0m\n\u001b[0;32m----> 4\u001b[0;31m \u001b[0;32mfrom\u001b[0m \u001b[0mroot_study_functions\u001b[0m \u001b[0;32mimport\u001b[0m \u001b[0;34m*\u001b[0m\u001b[0;34m\u001b[0m\u001b[0;34m\u001b[0m\u001b[0m\n\u001b[0m\u001b[1;32m      5\u001b[0m \u001b[0;31m# set_maintenance(model, respiration_rate, starting_value, model_tag):\u001b[0m\u001b[0;34m\u001b[0m\u001b[0;34m\u001b[0m\u001b[0m\n",
      "\u001b[0;31mModuleNotFoundError\u001b[0m: No module named 'root_study_functions'"
     ]
    }
   ],
   "source": [
    "#mean respiration rate: 8.76E-14 umol CO2 per sec per um3 of cytoplasm\n",
    "set_maintenance(tissue_model, 8.76E-14, 0, model_tag)"
   ]
  },
  {
   "cell_type": "code",
   "execution_count": 116,
   "metadata": {},
   "outputs": [
    {
     "name": "stdout",
     "output_type": "stream",
     "text": [
      "ATPase_tx_epi00 0 1000\n",
      "ATPase_tx_cor00 0 1000\n",
      "ATPase_tx_cor01 0 1000\n",
      "ATPase_tx_cor02 0 1000\n",
      "ATPase_tx_cor03 0 1000\n",
      "ATPase_tx_cor04 0 1000\n",
      "ATPase_tx_cor05 0 1000\n",
      "ATPase_tx_cor06 0 1000\n",
      "ATPase_tx_cor07 0 1000\n",
      "ATPase_tx_end00 0 1000\n",
      "ATPase_tx_per00 0.01 1000\n"
     ]
    }
   ],
   "source": [
    "for rxn in rmodel.reactions:\n",
    "    if 'ATPase_tx' in rxn.id:\n",
    "        print(rxn.id, rxn.lower_bound,rxn.upper_bound)\n",
    "        rxn.lower_bound=0\n",
    "        rxn.upper_bound=1000"
   ]
  },
  {
   "cell_type": "code",
   "execution_count": 111,
   "metadata": {},
   "outputs": [
    {
     "ename": "ValueError",
     "evalue": "The lower bound must be less than or equal to the upper bound (0.2 <= 0.01).",
     "output_type": "error",
     "traceback": [
      "\u001b[0;31m---------------------------------------------------------------------------\u001b[0m",
      "\u001b[0;31mValueError\u001b[0m                                Traceback (most recent call last)",
      "\u001b[0;32m/var/folders/rx/sg79_yds24z7clp5pp_fnpnh0000gp/T/ipykernel_4280/3672629719.py\u001b[0m in \u001b[0;36m<module>\u001b[0;34m\u001b[0m\n\u001b[0;32m----> 1\u001b[0;31m \u001b[0mrmodel\u001b[0m\u001b[0;34m.\u001b[0m\u001b[0mreactions\u001b[0m\u001b[0;34m.\u001b[0m\u001b[0mATPase_tx_per00\u001b[0m\u001b[0;34m.\u001b[0m\u001b[0mlower_bound\u001b[0m\u001b[0;34m=\u001b[0m\u001b[0;36m0.2\u001b[0m\u001b[0;34m\u001b[0m\u001b[0;34m\u001b[0m\u001b[0m\n\u001b[0m\u001b[1;32m      2\u001b[0m \u001b[0msol\u001b[0m\u001b[0;34m=\u001b[0m\u001b[0mrmodel\u001b[0m\u001b[0;34m.\u001b[0m\u001b[0moptimize\u001b[0m\u001b[0;34m(\u001b[0m\u001b[0;34m)\u001b[0m\u001b[0;34m\u001b[0m\u001b[0;34m\u001b[0m\u001b[0m\n",
      "\u001b[0;32m~/opt/anaconda3/lib/python3.9/site-packages/cobra/util/context.py\u001b[0m in \u001b[0;36mwrapper\u001b[0;34m(self, new_value)\u001b[0m\n\u001b[1;32m    109\u001b[0m             \u001b[0mcontext\u001b[0m\u001b[0;34m(\u001b[0m\u001b[0mpartial\u001b[0m\u001b[0;34m(\u001b[0m\u001b[0mfunc\u001b[0m\u001b[0;34m,\u001b[0m \u001b[0mself\u001b[0m\u001b[0;34m,\u001b[0m \u001b[0mold_value\u001b[0m\u001b[0;34m)\u001b[0m\u001b[0;34m)\u001b[0m\u001b[0;34m\u001b[0m\u001b[0;34m\u001b[0m\u001b[0m\n\u001b[1;32m    110\u001b[0m \u001b[0;34m\u001b[0m\u001b[0m\n\u001b[0;32m--> 111\u001b[0;31m         \u001b[0mfunc\u001b[0m\u001b[0;34m(\u001b[0m\u001b[0mself\u001b[0m\u001b[0;34m,\u001b[0m \u001b[0mnew_value\u001b[0m\u001b[0;34m)\u001b[0m\u001b[0;34m\u001b[0m\u001b[0;34m\u001b[0m\u001b[0m\n\u001b[0m\u001b[1;32m    112\u001b[0m \u001b[0;34m\u001b[0m\u001b[0m\n\u001b[1;32m    113\u001b[0m     \u001b[0;32mreturn\u001b[0m \u001b[0mwrapper\u001b[0m\u001b[0;34m\u001b[0m\u001b[0;34m\u001b[0m\u001b[0m\n",
      "\u001b[0;32m~/opt/anaconda3/lib/python3.9/site-packages/cobra/core/reaction.py\u001b[0m in \u001b[0;36mlower_bound\u001b[0;34m(self, value)\u001b[0m\n\u001b[1;32m    241\u001b[0m     \u001b[0;32mdef\u001b[0m \u001b[0mlower_bound\u001b[0m\u001b[0;34m(\u001b[0m\u001b[0mself\u001b[0m\u001b[0;34m,\u001b[0m \u001b[0mvalue\u001b[0m\u001b[0;34m)\u001b[0m\u001b[0;34m:\u001b[0m\u001b[0;34m\u001b[0m\u001b[0;34m\u001b[0m\u001b[0m\n\u001b[1;32m    242\u001b[0m         \u001b[0;31m# Validate bounds before setting them.\u001b[0m\u001b[0;34m\u001b[0m\u001b[0;34m\u001b[0m\u001b[0m\n\u001b[0;32m--> 243\u001b[0;31m         \u001b[0mself\u001b[0m\u001b[0;34m.\u001b[0m\u001b[0m_check_bounds\u001b[0m\u001b[0;34m(\u001b[0m\u001b[0mvalue\u001b[0m\u001b[0;34m,\u001b[0m \u001b[0mself\u001b[0m\u001b[0;34m.\u001b[0m\u001b[0m_upper_bound\u001b[0m\u001b[0;34m)\u001b[0m\u001b[0;34m\u001b[0m\u001b[0;34m\u001b[0m\u001b[0m\n\u001b[0m\u001b[1;32m    244\u001b[0m         \u001b[0mself\u001b[0m\u001b[0;34m.\u001b[0m\u001b[0m_lower_bound\u001b[0m \u001b[0;34m=\u001b[0m \u001b[0mvalue\u001b[0m\u001b[0;34m\u001b[0m\u001b[0;34m\u001b[0m\u001b[0m\n\u001b[1;32m    245\u001b[0m         \u001b[0mself\u001b[0m\u001b[0;34m.\u001b[0m\u001b[0mupdate_variable_bounds\u001b[0m\u001b[0;34m(\u001b[0m\u001b[0;34m)\u001b[0m\u001b[0;34m\u001b[0m\u001b[0;34m\u001b[0m\u001b[0m\n",
      "\u001b[0;32m~/opt/anaconda3/lib/python3.9/site-packages/cobra/core/reaction.py\u001b[0m in \u001b[0;36m_check_bounds\u001b[0;34m(lb, ub)\u001b[0m\n\u001b[1;32m    194\u001b[0m     \u001b[0;32mdef\u001b[0m \u001b[0m_check_bounds\u001b[0m\u001b[0;34m(\u001b[0m\u001b[0mlb\u001b[0m\u001b[0;34m,\u001b[0m \u001b[0mub\u001b[0m\u001b[0;34m)\u001b[0m\u001b[0;34m:\u001b[0m\u001b[0;34m\u001b[0m\u001b[0;34m\u001b[0m\u001b[0m\n\u001b[1;32m    195\u001b[0m         \u001b[0;32mif\u001b[0m \u001b[0mlb\u001b[0m \u001b[0;34m>\u001b[0m \u001b[0mub\u001b[0m\u001b[0;34m:\u001b[0m\u001b[0;34m\u001b[0m\u001b[0;34m\u001b[0m\u001b[0m\n\u001b[0;32m--> 196\u001b[0;31m             raise ValueError(\n\u001b[0m\u001b[1;32m    197\u001b[0m                 \u001b[0;34m\"The lower bound must be less than or equal to the upper \"\u001b[0m\u001b[0;34m\u001b[0m\u001b[0;34m\u001b[0m\u001b[0m\n\u001b[1;32m    198\u001b[0m                 \u001b[0;34m\"bound ({} <= {}).\"\u001b[0m\u001b[0;34m.\u001b[0m\u001b[0mformat\u001b[0m\u001b[0;34m(\u001b[0m\u001b[0mlb\u001b[0m\u001b[0;34m,\u001b[0m \u001b[0mub\u001b[0m\u001b[0;34m)\u001b[0m\u001b[0;34m\u001b[0m\u001b[0;34m\u001b[0m\u001b[0m\n",
      "\u001b[0;31mValueError\u001b[0m: The lower bound must be less than or equal to the upper bound (0.2 <= 0.01)."
     ]
    }
   ],
   "source": [
    "rmodel.reactions.ATPase_tx_per00.lower_bound=0.2\n",
    "sol=rmodel.optimize()"
   ]
  },
  {
   "cell_type": "code",
   "execution_count": 95,
   "metadata": {},
   "outputs": [],
   "source": [
    "from cobra import flux_analysis\n",
    "solution = flux_analysis.parsimonious.pfba(rmodel)"
   ]
  },
  {
   "cell_type": "code",
   "execution_count": 92,
   "metadata": {},
   "outputs": [
    {
     "name": "stdout",
     "output_type": "stream",
     "text": [
      "-31.477022504772947 CO2_tx_epi00\n",
      "0.0 CO2_tx_cor00\n",
      "0.0 CO2_tx_cor01\n",
      "0.0 CO2_tx_cor02\n",
      "0.0 CO2_tx_cor03\n",
      "0.0 CO2_tx_cor04\n",
      "0.0 CO2_tx_cor05\n",
      "0.0 CO2_tx_cor06\n",
      "0.0 CO2_tx_cor07\n",
      "0.0 CO2_tx_end00\n",
      "0.0 CO2_tx_per00\n"
     ]
    }
   ],
   "source": [
    "for rxn in rmodel.reactions:\n",
    "    if 'CO2_tx' in rxn.id:\n",
    "        print(sol[rxn.id],rxn.id) "
   ]
  },
  {
   "cell_type": "code",
   "execution_count": 9,
   "metadata": {},
   "outputs": [
    {
     "name": "stdout",
     "output_type": "stream",
     "text": [
      "0.026869520711791745 PHE_ph_c_per00\n",
      "    PHE_ph_per00 --> PHE_c_per00\n",
      "0.00010117663055402748 LEU_ph_c_per00\n",
      "    LEU_ph_per00 --> LEU_c_per00\n",
      "0.02830573261542308 4_AMINO_BUTYRATE_ph_c_per00\n",
      "    4_AMINO_BUTYRATE_ph_per00 --> 4_AMINO_BUTYRATE_c_per00\n",
      "0.4232245436242664 FRU_ph_c_per00\n",
      "    FRU_ph_per00 --> FRU_c_per00\n",
      "0.39048402878322397 GLT_ph_c_per00\n",
      "    GLT_ph_per00 --> GLT_c_per00\n",
      "0.0002660658167829547 L_ALPHA_ALANINE_ph_c_per00\n",
      "    L_ALPHA_ALANINE_ph_per00 --> L_ALPHA_ALANINE_c_per00\n",
      "0.07424456264136708 PRO_ph_c_per00\n",
      "    PRO_ph_per00 --> PRO_c_per00\n",
      "2.891612189211701 SUCROSE_ph_c_per00\n",
      "    SUCROSE_ph_per00 --> SUCROSE_c_per00\n",
      "0.0031711696127223244 HIS_ph_c_per00\n",
      "    HIS_ph_per00 --> HIS_c_per00\n",
      "0.0023433837338170983 TRP_ph_c_per00\n",
      "    TRP_ph_per00 --> TRP_c_per00\n",
      "0.004002051367074446 ILE_ph_c_per00\n",
      "    ILE_ph_per00 --> ILE_c_per00\n",
      "0.16204721477953848 ARG_ph_c_per00\n",
      "    ARG_ph_per00 --> ARG_c_per00\n",
      "0.3319850140745281 GLC_ph_c_per00\n",
      "    GLC_ph_per00 --> GLC_c_per00\n",
      "0.0042903655112602615 L_ASPARTATE_ph_c_per00\n",
      "    L_ASPARTATE_ph_per00 --> L_ASPARTATE_c_per00\n",
      "0.0008041002502353158 SER_ph_c_per00\n",
      "    SER_ph_per00 --> SER_c_per00\n",
      "0.009797384823869625 MET_ph_c_per00\n",
      "    MET_ph_per00 --> MET_c_per00\n",
      "0.02575540384220238 TYR_ph_c_per00\n",
      "    TYR_ph_per00 --> TYR_c_per00\n",
      "0.024570979083075765 VAL_ph_c_per00\n",
      "    VAL_ph_per00 --> VAL_c_per00\n",
      "0.21554381307694745 ASN_ph_c_per00\n",
      "    ASN_ph_per00 --> ASN_c_per00\n",
      "0.02886280471505817 GLN_ph_c_per00\n",
      "    GLN_ph_per00 --> GLN_c_per00\n",
      "0.0031641908482507486 LYS_ph_c_per00\n",
      "    LYS_ph_per00 --> LYS_c_per00\n",
      "0.08051900047071316 THR_ph_c_per00\n",
      "    THR_ph_per00 --> THR_c_per00\n"
     ]
    }
   ],
   "source": [
    "# Look at phloem import rxns\n",
    "for rxn in rmodel.reactions:\n",
    "    if '_ph_c_' in rxn.id and sol[rxn.id]!=0:\n",
    "        print(sol[rxn.id],rxn.id)\n",
    "        print('   ',rxn.reaction)"
   ]
  },
  {
   "cell_type": "code",
   "execution_count": null,
   "metadata": {},
   "outputs": [],
   "source": []
  }
 ],
 "metadata": {
  "interpreter": {
   "hash": "701d4f28dcd0866722f5108a3a4cbcd08882d26398b6d44117e791d7b8102912"
  },
  "kernelspec": {
   "display_name": "Python 3.9.7 ('base')",
   "language": "python",
   "name": "python3"
  },
  "language_info": {
   "codemirror_mode": {
    "name": "ipython",
    "version": 3
   },
   "file_extension": ".py",
   "mimetype": "text/x-python",
   "name": "python",
   "nbconvert_exporter": "python",
   "pygments_lexer": "ipython3",
   "version": "3.9.7"
  },
  "orig_nbformat": 4
 },
 "nbformat": 4,
 "nbformat_minor": 2
}
